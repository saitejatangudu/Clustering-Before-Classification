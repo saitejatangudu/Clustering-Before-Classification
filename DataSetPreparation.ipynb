{
 "cells": [
  {
   "cell_type": "markdown",
   "id": "XlOEPl1TycHf",
   "metadata": {
    "id": "XlOEPl1TycHf"
   },
   "source": [
    "# **Ball by Ball data**"
   ]
  },
  {
   "cell_type": "markdown",
   "id": "unexpected-winning",
   "metadata": {
    "id": "unexpected-winning"
   },
   "source": [
    "## Loading and Pre-Processing"
   ]
  },
  {
   "cell_type": "code",
   "execution_count": null,
   "id": "prostate-blond",
   "metadata": {
    "id": "prostate-blond"
   },
   "outputs": [],
   "source": [
    "import numpy as np\n",
    "import pandas as pd"
   ]
  },
  {
   "cell_type": "code",
   "execution_count": null,
   "id": "close-fever",
   "metadata": {
    "id": "close-fever"
   },
   "outputs": [],
   "source": [
    "# Read the CSV file into a DataFrame, setting low_memory=False to ensure all data types are inferred correctly\n",
    "df = pd.read_csv('ball_by_ball_data.csv', low_memory=False)\n",
    "\n",
    "# Display the first few rows of the DataFrame\n",
    "df.head()"
   ]
  },
  {
   "cell_type": "code",
   "execution_count": null,
   "id": "personal-light",
   "metadata": {
    "id": "personal-light",
    "outputId": "907dd48d-5459-4a75-974d-6d02302e1e53"
   },
   "outputs": [
    {
     "data": {
      "text/plain": [
       "Index(['match_id', 'season', 'start_date', 'venue', 'innings', 'ball',\n",
       "       'batting_team', 'bowling_team', 'striker', 'non_striker', 'bowler',\n",
       "       'runs_off_bat', 'extras', 'wides', 'noballs', 'byes', 'legbyes',\n",
       "       'penalty', 'wicket_type', 'player_dismissed', 'other_wicket_type',\n",
       "       'other_player_dismissed'],\n",
       "      dtype='object')"
      ]
     },
     "execution_count": 3,
     "metadata": {},
     "output_type": "execute_result"
    }
   ],
   "source": [
    "df.columns"
   ]
  },
  {
   "cell_type": "code",
   "execution_count": null,
   "id": "legislative-speech",
   "metadata": {
    "id": "legislative-speech",
    "outputId": "716a1a9b-dd7c-4e0a-bd68-480f6420b152"
   },
   "outputs": [
    {
     "data": {
      "text/plain": [
       "match_id                       0\n",
       "season                         0\n",
       "start_date                     0\n",
       "venue                          0\n",
       "innings                        0\n",
       "ball                           0\n",
       "batting_team                   0\n",
       "bowling_team                   0\n",
       "striker                        0\n",
       "non_striker                    0\n",
       "bowler                         0\n",
       "runs_off_bat                   0\n",
       "extras                         0\n",
       "wides                     187753\n",
       "noballs                   192848\n",
       "byes                      193107\n",
       "legbyes                   190506\n",
       "penalty                   193615\n",
       "wicket_type               184095\n",
       "player_dismissed          184095\n",
       "other_wicket_type         193617\n",
       "other_player_dismissed    193617\n",
       "dtype: int64"
      ]
     },
     "execution_count": 4,
     "metadata": {},
     "output_type": "execute_result"
    }
   ],
   "source": [
    "# Check for missing values in each column and sum them up\n",
    "missing_values = df.isnull().sum()\n",
    "\n",
    "# Display the count of missing values in each column\n",
    "missing_values"
   ]
  },
  {
   "cell_type": "code",
   "execution_count": null,
   "id": "fifteen-walker",
   "metadata": {
    "id": "fifteen-walker"
   },
   "outputs": [],
   "source": [
    "# Define a list of columns that are not required\n",
    "unwanted_cols = [\"venue\", \"striker\", \"non_striker\", \"bowler\", \"player_dismissed\", \"other_wicket_type\",\n",
    "                 \"other_player_dismissed\", \"penalty\", \"byes\", \"legbyes\"]\n",
    "\n",
    "# Drop the unwanted columns from the DataFrame\n",
    "df.drop(unwanted_cols, axis=1, inplace=True)"
   ]
  },
  {
   "cell_type": "markdown",
   "id": "gLNkTBJUtxCm",
   "metadata": {
    "id": "gLNkTBJUtxCm"
   },
   "source": [
    "## Target Calculation"
   ]
  },
  {
   "cell_type": "markdown",
   "id": "convenient-green",
   "metadata": {
    "id": "convenient-green"
   },
   "source": [
    "### adding new column \"season\""
   ]
  },
  {
   "cell_type": "code",
   "execution_count": null,
   "id": "extra-citizenship",
   "metadata": {
    "id": "extra-citizenship"
   },
   "outputs": [],
   "source": [
    "# Copy the 'start_date' column to a new column named 'date'\n",
    "df[\"date\"] = df[\"start_date\"]\n",
    "\n",
    "# Initialize an empty dictionary to store match_id and corresponding start_date\n",
    "date = {}\n",
    "\n",
    "# Iterate through each row index in the DataFrame\n",
    "for i in df.index:\n",
    "    # Store the start_date corresponding to match_id in the dictionary\n",
    "    date[df.loc[i, \"match_id\"]] = df.loc[i, \"start_date\"]\n",
    "\n",
    "# Convert the 'start_date' column to datetime format\n",
    "df['start_date'] = pd.to_datetime(df['start_date'])\n",
    "\n",
    "# Extract the year from the start_date and add it as a new column named 'season' in the DataFrame\n",
    "df['season'] = pd.DatetimeIndex(df['start_date']).year"
   ]
  },
  {
   "cell_type": "code",
   "execution_count": null,
   "id": "saving-allowance",
   "metadata": {
    "id": "saving-allowance"
   },
   "outputs": [],
   "source": [
    "# Drop the 'start_date' column from the DataFrame\n",
    "df.drop(['start_date'], axis=1, inplace=True)\n",
    "\n",
    "# Display the columns of the DataFrame after dropping 'start_date'\n",
    "df.columns"
   ]
  },
  {
   "cell_type": "markdown",
   "id": "welsh-vocabulary",
   "metadata": {
    "id": "welsh-vocabulary"
   },
   "source": [
    "### calculating score per ball"
   ]
  },
  {
   "cell_type": "code",
   "execution_count": null,
   "id": "periodic-lending",
   "metadata": {
    "id": "periodic-lending"
   },
   "outputs": [],
   "source": [
    "# Initialize an empty list to store the total runs for each row\n",
    "total = []\n",
    "\n",
    "# Iterate through each row index in the DataFrame\n",
    "for i in range(len(df)):\n",
    "    # Calculate the total runs by adding runs_off_bat and extras for each row\n",
    "    total.append(int(df.loc[i, \"runs_off_bat\"]) + int(df.loc[i, \"extras\"]))\n",
    "\n",
    "# Add a new column named 'total' to the DataFrame with ball-wise total runs\n",
    "df = df.assign(total=total)"
   ]
  },
  {
   "cell_type": "code",
   "execution_count": null,
   "id": "comparable-connecticut",
   "metadata": {
    "id": "comparable-connecticut",
    "outputId": "6129c915-c903-4533-ec30-5510bc298d4d"
   },
   "outputs": [
    {
     "data": {
      "text/html": [
       "<div>\n",
       "<style scoped>\n",
       "    .dataframe tbody tr th:only-of-type {\n",
       "        vertical-align: middle;\n",
       "    }\n",
       "\n",
       "    .dataframe tbody tr th {\n",
       "        vertical-align: top;\n",
       "    }\n",
       "\n",
       "    .dataframe thead th {\n",
       "        text-align: right;\n",
       "    }\n",
       "</style>\n",
       "<table border=\"1\" class=\"dataframe\">\n",
       "  <thead>\n",
       "    <tr style=\"text-align: right;\">\n",
       "      <th></th>\n",
       "      <th>match_id</th>\n",
       "      <th>season</th>\n",
       "      <th>innings</th>\n",
       "      <th>ball</th>\n",
       "      <th>batting_team</th>\n",
       "      <th>bowling_team</th>\n",
       "      <th>runs_off_bat</th>\n",
       "      <th>extras</th>\n",
       "      <th>wides</th>\n",
       "      <th>noballs</th>\n",
       "      <th>byes</th>\n",
       "      <th>legbyes</th>\n",
       "      <th>wicket_type</th>\n",
       "      <th>date</th>\n",
       "      <th>total</th>\n",
       "    </tr>\n",
       "  </thead>\n",
       "  <tbody>\n",
       "    <tr>\n",
       "      <th>0</th>\n",
       "      <td>335982</td>\n",
       "      <td>2008</td>\n",
       "      <td>1</td>\n",
       "      <td>0.1</td>\n",
       "      <td>Kolkata Knight Riders</td>\n",
       "      <td>Royal Challengers Bangalore</td>\n",
       "      <td>0</td>\n",
       "      <td>1</td>\n",
       "      <td>NaN</td>\n",
       "      <td>NaN</td>\n",
       "      <td>NaN</td>\n",
       "      <td>1.0</td>\n",
       "      <td>NaN</td>\n",
       "      <td>2008-04-18</td>\n",
       "      <td>1</td>\n",
       "    </tr>\n",
       "    <tr>\n",
       "      <th>1</th>\n",
       "      <td>335982</td>\n",
       "      <td>2008</td>\n",
       "      <td>1</td>\n",
       "      <td>0.2</td>\n",
       "      <td>Kolkata Knight Riders</td>\n",
       "      <td>Royal Challengers Bangalore</td>\n",
       "      <td>0</td>\n",
       "      <td>0</td>\n",
       "      <td>NaN</td>\n",
       "      <td>NaN</td>\n",
       "      <td>NaN</td>\n",
       "      <td>NaN</td>\n",
       "      <td>NaN</td>\n",
       "      <td>2008-04-18</td>\n",
       "      <td>0</td>\n",
       "    </tr>\n",
       "    <tr>\n",
       "      <th>2</th>\n",
       "      <td>335982</td>\n",
       "      <td>2008</td>\n",
       "      <td>1</td>\n",
       "      <td>0.3</td>\n",
       "      <td>Kolkata Knight Riders</td>\n",
       "      <td>Royal Challengers Bangalore</td>\n",
       "      <td>0</td>\n",
       "      <td>1</td>\n",
       "      <td>1.0</td>\n",
       "      <td>NaN</td>\n",
       "      <td>NaN</td>\n",
       "      <td>NaN</td>\n",
       "      <td>NaN</td>\n",
       "      <td>2008-04-18</td>\n",
       "      <td>1</td>\n",
       "    </tr>\n",
       "    <tr>\n",
       "      <th>3</th>\n",
       "      <td>335982</td>\n",
       "      <td>2008</td>\n",
       "      <td>1</td>\n",
       "      <td>0.4</td>\n",
       "      <td>Kolkata Knight Riders</td>\n",
       "      <td>Royal Challengers Bangalore</td>\n",
       "      <td>0</td>\n",
       "      <td>0</td>\n",
       "      <td>NaN</td>\n",
       "      <td>NaN</td>\n",
       "      <td>NaN</td>\n",
       "      <td>NaN</td>\n",
       "      <td>NaN</td>\n",
       "      <td>2008-04-18</td>\n",
       "      <td>0</td>\n",
       "    </tr>\n",
       "    <tr>\n",
       "      <th>4</th>\n",
       "      <td>335982</td>\n",
       "      <td>2008</td>\n",
       "      <td>1</td>\n",
       "      <td>0.5</td>\n",
       "      <td>Kolkata Knight Riders</td>\n",
       "      <td>Royal Challengers Bangalore</td>\n",
       "      <td>0</td>\n",
       "      <td>0</td>\n",
       "      <td>NaN</td>\n",
       "      <td>NaN</td>\n",
       "      <td>NaN</td>\n",
       "      <td>NaN</td>\n",
       "      <td>NaN</td>\n",
       "      <td>2008-04-18</td>\n",
       "      <td>0</td>\n",
       "    </tr>\n",
       "  </tbody>\n",
       "</table>\n",
       "</div>"
      ],
      "text/plain": [
       "   match_id  season  innings  ball           batting_team  \\\n",
       "0    335982    2008        1   0.1  Kolkata Knight Riders   \n",
       "1    335982    2008        1   0.2  Kolkata Knight Riders   \n",
       "2    335982    2008        1   0.3  Kolkata Knight Riders   \n",
       "3    335982    2008        1   0.4  Kolkata Knight Riders   \n",
       "4    335982    2008        1   0.5  Kolkata Knight Riders   \n",
       "\n",
       "                  bowling_team  runs_off_bat  extras  wides  noballs  byes  \\\n",
       "0  Royal Challengers Bangalore             0       1    NaN      NaN   NaN   \n",
       "1  Royal Challengers Bangalore             0       0    NaN      NaN   NaN   \n",
       "2  Royal Challengers Bangalore             0       1    1.0      NaN   NaN   \n",
       "3  Royal Challengers Bangalore             0       0    NaN      NaN   NaN   \n",
       "4  Royal Challengers Bangalore             0       0    NaN      NaN   NaN   \n",
       "\n",
       "   legbyes wicket_type        date  total  \n",
       "0      1.0         NaN  2008-04-18      1  \n",
       "1      NaN         NaN  2008-04-18      0  \n",
       "2      NaN         NaN  2008-04-18      1  \n",
       "3      NaN         NaN  2008-04-18      0  \n",
       "4      NaN         NaN  2008-04-18      0  "
      ]
     },
     "execution_count": 14,
     "metadata": {},
     "output_type": "execute_result"
    }
   ],
   "source": [
    "df.head()"
   ]
  },
  {
   "cell_type": "markdown",
   "id": "liable-thought",
   "metadata": {
    "id": "liable-thought"
   },
   "source": [
    "### calculating score per innings ( target )"
   ]
  },
  {
   "cell_type": "code",
   "execution_count": null,
   "id": "cultural-enlargement",
   "metadata": {
    "id": "cultural-enlargement"
   },
   "outputs": [],
   "source": [
    "# Get unique match IDs\n",
    "MATCHES = df[\"match_id\"].unique()\n",
    "\n",
    "# Initialize an empty dictionary to store targets for each match\n",
    "targets = {}\n",
    "\n",
    "# Iterate through each unique match ID\n",
    "for match_id in MATCHES:\n",
    "    # Calculate the total runs for the first innings of the match and store it in the dictionary\n",
    "    targets[match_id] = df.loc[(df['match_id'] == match_id) & (df['innings'] == 1), \"total\"].sum()\n",
    "\n",
    "# Print the dictionary containing targets for each match\n",
    "print(targets)"
   ]
  },
  {
   "cell_type": "code",
   "execution_count": null,
   "id": "banned-gamma",
   "metadata": {
    "id": "banned-gamma"
   },
   "outputs": [],
   "source": [
    "# Create a new column 'Targets' initialized with zeros\n",
    "df[\"Targets\"] = np.zeros(len(df))\n",
    "\n",
    "# Iterate through each row in the DataFrame\n",
    "for i in range(len(df)):\n",
    "    # Update the 'Targets' column with the target value for the corresponding match_id + 1\n",
    "    df.at[i, 'Targets'] = targets[df.at[i, 'match_id']] + 1\n",
    "\n",
    "# Display the first few rows of the DataFrame with the updated 'Targets' column\n",
    "df.head()"
   ]
  },
  {
   "cell_type": "code",
   "execution_count": null,
   "id": "nonprofit-suffering",
   "metadata": {
    "id": "nonprofit-suffering",
    "outputId": "4ccc2940-b3d6-471a-c11e-75b4a96b9a17"
   },
   "outputs": [
    {
     "data": {
      "text/html": [
       "<div>\n",
       "<style scoped>\n",
       "    .dataframe tbody tr th:only-of-type {\n",
       "        vertical-align: middle;\n",
       "    }\n",
       "\n",
       "    .dataframe tbody tr th {\n",
       "        vertical-align: top;\n",
       "    }\n",
       "\n",
       "    .dataframe thead th {\n",
       "        text-align: right;\n",
       "    }\n",
       "</style>\n",
       "<table border=\"1\" class=\"dataframe\">\n",
       "  <thead>\n",
       "    <tr style=\"text-align: right;\">\n",
       "      <th></th>\n",
       "      <th>match_id</th>\n",
       "      <th>season</th>\n",
       "      <th>innings</th>\n",
       "      <th>ball</th>\n",
       "      <th>batting_team</th>\n",
       "      <th>bowling_team</th>\n",
       "      <th>runs_off_bat</th>\n",
       "      <th>extras</th>\n",
       "      <th>wides</th>\n",
       "      <th>noballs</th>\n",
       "      <th>byes</th>\n",
       "      <th>legbyes</th>\n",
       "      <th>wicket_type</th>\n",
       "      <th>date</th>\n",
       "      <th>total</th>\n",
       "      <th>Targets</th>\n",
       "    </tr>\n",
       "  </thead>\n",
       "  <tbody>\n",
       "    <tr>\n",
       "      <th>182533</th>\n",
       "      <td>1216514</td>\n",
       "      <td>2020</td>\n",
       "      <td>1</td>\n",
       "      <td>0.1</td>\n",
       "      <td>Rajasthan Royals</td>\n",
       "      <td>Royal Challengers Bangalore</td>\n",
       "      <td>0</td>\n",
       "      <td>0</td>\n",
       "      <td>NaN</td>\n",
       "      <td>NaN</td>\n",
       "      <td>NaN</td>\n",
       "      <td>NaN</td>\n",
       "      <td>NaN</td>\n",
       "      <td>2020-10-03</td>\n",
       "      <td>0</td>\n",
       "      <td>155.0</td>\n",
       "    </tr>\n",
       "    <tr>\n",
       "      <th>182534</th>\n",
       "      <td>1216514</td>\n",
       "      <td>2020</td>\n",
       "      <td>1</td>\n",
       "      <td>0.2</td>\n",
       "      <td>Rajasthan Royals</td>\n",
       "      <td>Royal Challengers Bangalore</td>\n",
       "      <td>4</td>\n",
       "      <td>0</td>\n",
       "      <td>NaN</td>\n",
       "      <td>NaN</td>\n",
       "      <td>NaN</td>\n",
       "      <td>NaN</td>\n",
       "      <td>NaN</td>\n",
       "      <td>2020-10-03</td>\n",
       "      <td>4</td>\n",
       "      <td>155.0</td>\n",
       "    </tr>\n",
       "    <tr>\n",
       "      <th>182535</th>\n",
       "      <td>1216514</td>\n",
       "      <td>2020</td>\n",
       "      <td>1</td>\n",
       "      <td>0.3</td>\n",
       "      <td>Rajasthan Royals</td>\n",
       "      <td>Royal Challengers Bangalore</td>\n",
       "      <td>1</td>\n",
       "      <td>0</td>\n",
       "      <td>NaN</td>\n",
       "      <td>NaN</td>\n",
       "      <td>NaN</td>\n",
       "      <td>NaN</td>\n",
       "      <td>NaN</td>\n",
       "      <td>2020-10-03</td>\n",
       "      <td>1</td>\n",
       "      <td>155.0</td>\n",
       "    </tr>\n",
       "    <tr>\n",
       "      <th>182536</th>\n",
       "      <td>1216514</td>\n",
       "      <td>2020</td>\n",
       "      <td>1</td>\n",
       "      <td>0.4</td>\n",
       "      <td>Rajasthan Royals</td>\n",
       "      <td>Royal Challengers Bangalore</td>\n",
       "      <td>0</td>\n",
       "      <td>0</td>\n",
       "      <td>NaN</td>\n",
       "      <td>NaN</td>\n",
       "      <td>NaN</td>\n",
       "      <td>NaN</td>\n",
       "      <td>NaN</td>\n",
       "      <td>2020-10-03</td>\n",
       "      <td>0</td>\n",
       "      <td>155.0</td>\n",
       "    </tr>\n",
       "    <tr>\n",
       "      <th>182537</th>\n",
       "      <td>1216514</td>\n",
       "      <td>2020</td>\n",
       "      <td>1</td>\n",
       "      <td>0.5</td>\n",
       "      <td>Rajasthan Royals</td>\n",
       "      <td>Royal Challengers Bangalore</td>\n",
       "      <td>0</td>\n",
       "      <td>0</td>\n",
       "      <td>NaN</td>\n",
       "      <td>NaN</td>\n",
       "      <td>NaN</td>\n",
       "      <td>NaN</td>\n",
       "      <td>NaN</td>\n",
       "      <td>2020-10-03</td>\n",
       "      <td>0</td>\n",
       "      <td>155.0</td>\n",
       "    </tr>\n",
       "    <tr>\n",
       "      <th>...</th>\n",
       "      <td>...</td>\n",
       "      <td>...</td>\n",
       "      <td>...</td>\n",
       "      <td>...</td>\n",
       "      <td>...</td>\n",
       "      <td>...</td>\n",
       "      <td>...</td>\n",
       "      <td>...</td>\n",
       "      <td>...</td>\n",
       "      <td>...</td>\n",
       "      <td>...</td>\n",
       "      <td>...</td>\n",
       "      <td>...</td>\n",
       "      <td>...</td>\n",
       "      <td>...</td>\n",
       "      <td>...</td>\n",
       "    </tr>\n",
       "    <tr>\n",
       "      <th>182766</th>\n",
       "      <td>1216514</td>\n",
       "      <td>2020</td>\n",
       "      <td>2</td>\n",
       "      <td>18.3</td>\n",
       "      <td>Royal Challengers Bangalore</td>\n",
       "      <td>Rajasthan Royals</td>\n",
       "      <td>0</td>\n",
       "      <td>0</td>\n",
       "      <td>NaN</td>\n",
       "      <td>NaN</td>\n",
       "      <td>NaN</td>\n",
       "      <td>NaN</td>\n",
       "      <td>NaN</td>\n",
       "      <td>2020-10-03</td>\n",
       "      <td>0</td>\n",
       "      <td>155.0</td>\n",
       "    </tr>\n",
       "    <tr>\n",
       "      <th>182767</th>\n",
       "      <td>1216514</td>\n",
       "      <td>2020</td>\n",
       "      <td>2</td>\n",
       "      <td>18.4</td>\n",
       "      <td>Royal Challengers Bangalore</td>\n",
       "      <td>Rajasthan Royals</td>\n",
       "      <td>1</td>\n",
       "      <td>0</td>\n",
       "      <td>NaN</td>\n",
       "      <td>NaN</td>\n",
       "      <td>NaN</td>\n",
       "      <td>NaN</td>\n",
       "      <td>NaN</td>\n",
       "      <td>2020-10-03</td>\n",
       "      <td>1</td>\n",
       "      <td>155.0</td>\n",
       "    </tr>\n",
       "    <tr>\n",
       "      <th>182768</th>\n",
       "      <td>1216514</td>\n",
       "      <td>2020</td>\n",
       "      <td>2</td>\n",
       "      <td>18.5</td>\n",
       "      <td>Royal Challengers Bangalore</td>\n",
       "      <td>Rajasthan Royals</td>\n",
       "      <td>1</td>\n",
       "      <td>0</td>\n",
       "      <td>NaN</td>\n",
       "      <td>NaN</td>\n",
       "      <td>NaN</td>\n",
       "      <td>NaN</td>\n",
       "      <td>NaN</td>\n",
       "      <td>2020-10-03</td>\n",
       "      <td>1</td>\n",
       "      <td>155.0</td>\n",
       "    </tr>\n",
       "    <tr>\n",
       "      <th>182769</th>\n",
       "      <td>1216514</td>\n",
       "      <td>2020</td>\n",
       "      <td>2</td>\n",
       "      <td>18.6</td>\n",
       "      <td>Royal Challengers Bangalore</td>\n",
       "      <td>Rajasthan Royals</td>\n",
       "      <td>1</td>\n",
       "      <td>0</td>\n",
       "      <td>NaN</td>\n",
       "      <td>NaN</td>\n",
       "      <td>NaN</td>\n",
       "      <td>NaN</td>\n",
       "      <td>NaN</td>\n",
       "      <td>2020-10-03</td>\n",
       "      <td>1</td>\n",
       "      <td>155.0</td>\n",
       "    </tr>\n",
       "    <tr>\n",
       "      <th>182770</th>\n",
       "      <td>1216514</td>\n",
       "      <td>2020</td>\n",
       "      <td>2</td>\n",
       "      <td>19.1</td>\n",
       "      <td>Royal Challengers Bangalore</td>\n",
       "      <td>Rajasthan Royals</td>\n",
       "      <td>4</td>\n",
       "      <td>0</td>\n",
       "      <td>NaN</td>\n",
       "      <td>NaN</td>\n",
       "      <td>NaN</td>\n",
       "      <td>NaN</td>\n",
       "      <td>NaN</td>\n",
       "      <td>2020-10-03</td>\n",
       "      <td>4</td>\n",
       "      <td>155.0</td>\n",
       "    </tr>\n",
       "  </tbody>\n",
       "</table>\n",
       "<p>238 rows × 16 columns</p>\n",
       "</div>"
      ],
      "text/plain": [
       "        match_id  season  innings  ball                 batting_team  \\\n",
       "182533   1216514    2020        1   0.1             Rajasthan Royals   \n",
       "182534   1216514    2020        1   0.2             Rajasthan Royals   \n",
       "182535   1216514    2020        1   0.3             Rajasthan Royals   \n",
       "182536   1216514    2020        1   0.4             Rajasthan Royals   \n",
       "182537   1216514    2020        1   0.5             Rajasthan Royals   \n",
       "...          ...     ...      ...   ...                          ...   \n",
       "182766   1216514    2020        2  18.3  Royal Challengers Bangalore   \n",
       "182767   1216514    2020        2  18.4  Royal Challengers Bangalore   \n",
       "182768   1216514    2020        2  18.5  Royal Challengers Bangalore   \n",
       "182769   1216514    2020        2  18.6  Royal Challengers Bangalore   \n",
       "182770   1216514    2020        2  19.1  Royal Challengers Bangalore   \n",
       "\n",
       "                       bowling_team  runs_off_bat  extras  wides  noballs  \\\n",
       "182533  Royal Challengers Bangalore             0       0    NaN      NaN   \n",
       "182534  Royal Challengers Bangalore             4       0    NaN      NaN   \n",
       "182535  Royal Challengers Bangalore             1       0    NaN      NaN   \n",
       "182536  Royal Challengers Bangalore             0       0    NaN      NaN   \n",
       "182537  Royal Challengers Bangalore             0       0    NaN      NaN   \n",
       "...                             ...           ...     ...    ...      ...   \n",
       "182766             Rajasthan Royals             0       0    NaN      NaN   \n",
       "182767             Rajasthan Royals             1       0    NaN      NaN   \n",
       "182768             Rajasthan Royals             1       0    NaN      NaN   \n",
       "182769             Rajasthan Royals             1       0    NaN      NaN   \n",
       "182770             Rajasthan Royals             4       0    NaN      NaN   \n",
       "\n",
       "        byes  legbyes wicket_type        date  total  Targets  \n",
       "182533   NaN      NaN         NaN  2020-10-03      0    155.0  \n",
       "182534   NaN      NaN         NaN  2020-10-03      4    155.0  \n",
       "182535   NaN      NaN         NaN  2020-10-03      1    155.0  \n",
       "182536   NaN      NaN         NaN  2020-10-03      0    155.0  \n",
       "182537   NaN      NaN         NaN  2020-10-03      0    155.0  \n",
       "...      ...      ...         ...         ...    ...      ...  \n",
       "182766   NaN      NaN         NaN  2020-10-03      0    155.0  \n",
       "182767   NaN      NaN         NaN  2020-10-03      1    155.0  \n",
       "182768   NaN      NaN         NaN  2020-10-03      1    155.0  \n",
       "182769   NaN      NaN         NaN  2020-10-03      1    155.0  \n",
       "182770   NaN      NaN         NaN  2020-10-03      4    155.0  \n",
       "\n",
       "[238 rows x 16 columns]"
      ]
     },
     "execution_count": 20,
     "metadata": {},
     "output_type": "execute_result"
    }
   ],
   "source": [
    "#veryfication of a random match id target\n",
    "df.loc[df[\"match_id\"]==1216514]"
   ]
  },
  {
   "cell_type": "markdown",
   "id": "gSyTLZMdw7Rp",
   "metadata": {
    "id": "gSyTLZMdw7Rp"
   },
   "source": [
    "**Section Highlights**\n",
    "\n",
    "- Loaded cricket match data from a CSV file into a DataFrame, ensuring accurate data type inference.\n",
    "- Cleaned the DataFrame by dropping unnecessary columns.\n",
    "- Processed date information to extract the year as the 'season'.\n",
    "- Calculated total runs for each ball and added a new column named 'total'.\n",
    "- Derived targets for each match from the total runs of the first innings.\n",
    "- Added and updated a column 'Targets' with the derived target values."
   ]
  },
  {
   "cell_type": "markdown",
   "id": "Src1ZX_B0yC6",
   "metadata": {
    "id": "Src1ZX_B0yC6"
   },
   "source": [
    "# **Match by Match data**"
   ]
  },
  {
   "cell_type": "markdown",
   "id": "K8aTXbSVyGe4",
   "metadata": {
    "id": "K8aTXbSVyGe4"
   },
   "source": [
    "### Setting Winners"
   ]
  },
  {
   "cell_type": "code",
   "execution_count": null,
   "id": "generous-damage",
   "metadata": {
    "id": "generous-damage"
   },
   "outputs": [],
   "source": [
    "# Load the Matches.csv file into a DataFrame\n",
    "matches = pd.read_csv(\"match_by_match_data.csv\")\n",
    "\n",
    "# Display the first few rows of the DataFrame to understand its structure\n",
    "matches.head()"
   ]
  },
  {
   "cell_type": "code",
   "execution_count": null,
   "id": "acquired-enclosure",
   "metadata": {
    "id": "acquired-enclosure"
   },
   "outputs": [],
   "source": [
    "# Initialize an empty dictionary to store match winners\n",
    "match_winner = {}\n",
    "\n",
    "# Populate the match_winner dictionary with match IDs as keys and corresponding winners as values\n",
    "for i in matches.index:\n",
    "    match_winner[matches.loc[i,'id']] = matches.loc[i,\"winner\"]"
   ]
  },
  {
   "cell_type": "code",
   "execution_count": null,
   "id": "parliamentary-bacon",
   "metadata": {
    "id": "parliamentary-bacon",
    "outputId": "9759189e-08c3-4170-8f58-6626bb1332cf"
   },
   "outputs": [
    {
     "name": "stdout",
     "output_type": "stream",
     "text": [
      "193617\n"
     ]
    }
   ],
   "source": [
    "# Initialize a list to store winners for each match in df\n",
    "winners_list = []\n",
    "\n",
    "# Iterate through rows in df to extract winner information based on match ID from match_winner dictionary\n",
    "for i in df.index:\n",
    "    # Append the winner for the corresponding match ID to the winners_list\n",
    "    winners_list.append(match_winner[df.loc[i,\"match_id\"]])\n",
    "\n",
    "# Add a new column named \"winner\" to df and populate it with the winners_list\n",
    "df[\"winner\"] = winners_list\n",
    "\n",
    "# Display the first few rows of the DataFrame df with the added \"winner\" column\n",
    "df.head()"
   ]
  },
  {
   "cell_type": "markdown",
   "id": "7_6-D0oS2r1Q",
   "metadata": {
    "id": "7_6-D0oS2r1Q"
   },
   "source": [
    "## Anomaly Removal"
   ]
  },
  {
   "cell_type": "markdown",
   "id": "jJCGipWR3kHz",
   "metadata": {
    "id": "jJCGipWR3kHz"
   },
   "source": [
    "### Abandoned Matches"
   ]
  },
  {
   "cell_type": "code",
   "execution_count": null,
   "id": "N4b8XBMq3Ha4",
   "metadata": {
    "id": "N4b8XBMq3Ha4"
   },
   "outputs": [],
   "source": [
    "# Selecting match IDs where neither batting team nor bowling team is the winner\n",
    "abandoned_matches = df.loc[(df[\"batting_team\"] != df[\"winner\"]) & (df['bowling_team'] != df[\"winner\"])][\"match_id\"].unique()\n",
    "\n",
    "# List to store indices of rows belonging to abandoned matches\n",
    "indices_to_drop = []\n",
    "\n",
    "# Iterating over each abandoned match ID\n",
    "for match_id in abandoned_matches:\n",
    "    # Extending the list of indices with indices of rows belonging to the current abandoned match\n",
    "    indices_to_drop.extend(list(df.loc[df[\"match_id\"] == match_id].index))\n",
    "\n",
    "# Dropping rows corresponding to abandoned matches\n",
    "df = df.drop(indices_to_drop)\n",
    "\n",
    "# Displaying the first few rows of the modified DataFrame\n",
    "df.head()"
   ]
  },
  {
   "cell_type": "code",
   "execution_count": null,
   "id": "characteristic-toyota",
   "metadata": {
    "id": "characteristic-toyota",
    "outputId": "1f74a120-4f37-4b0f-c62b-28fc5b364bd2"
   },
   "outputs": [
    {
     "data": {
      "text/plain": [
       "array([], dtype=int64)"
      ]
     },
     "execution_count": 35,
     "metadata": {},
     "output_type": "execute_result"
    }
   ],
   "source": [
    "# Selecting match IDs where neither batting team nor bowling team is the winner\n",
    "abandoned_matches = df.loc[(df[\"batting_team\"] != df[\"winner\"]) & (df['bowling_team'] != df[\"winner\"])][\"match_id\"].unique()\n",
    "\n",
    "# Displaying the match IDs of abandoned matches without any result\n",
    "abandoned_matches"
   ]
  },
  {
   "cell_type": "markdown",
   "id": "9HOz0iZK3pJ8",
   "metadata": {
    "id": "9HOz0iZK3pJ8"
   },
   "source": [
    "### Super Overs"
   ]
  },
  {
   "cell_type": "code",
   "execution_count": null,
   "id": "jU7VCJmB5jAf",
   "metadata": {
    "id": "jU7VCJmB5jAf"
   },
   "outputs": [],
   "source": [
    "# Dropping the data of the first innings\n",
    "df = df.drop(list(df.loc[df[\"innings\"] == 1].index))\n",
    "\n",
    "# List to store match IDs that ended up in a super over\n",
    "super_over_ids = []\n",
    "\n",
    "# Searching records of matches that ended up in a super over\n",
    "for i in range(3, 7):\n",
    "    super_over_ids.extend(list(df.loc[df[\"innings\"] == i][\"match_id\"]))\n",
    "\n",
    "# Printing total number of matches that went up to a super over\n",
    "print(len(set(super_over_ids)), \"matches went up to a super over\")\n",
    "# Printing super over match IDs\n",
    "print(set(super_over_ids))\n"
   ]
  },
  {
   "cell_type": "code",
   "execution_count": null,
   "id": "74Ew51EO4N07",
   "metadata": {
    "id": "74Ew51EO4N07"
   },
   "outputs": [],
   "source": [
    "# Removing data corresponding to matches that ended up in a super over\n",
    "for i in super_over_ids:\n",
    "    df = df.drop(df.loc[df[\"match_id\"] == i].index)\n",
    "\n",
    "# Checking for the existence of super over matches\n",
    "for i in super_over_ids:\n",
    "    print(len(df.loc[df[\"match_id\"] == i]), end=\"\")\n",
    "\n",
    "# Now, the DataFrame contains data excluding matches that went into a super over and excluding data from the first innings.\n"
   ]
  },
  {
   "cell_type": "markdown",
   "id": "6aE0MNdmOiK3",
   "metadata": {
    "id": "6aE0MNdmOiK3"
   },
   "source": [
    "**Section Highlights**\n",
    "\n",
    "- Extracted winner information for each match from the 'Matches.csv' file and added it to the main DataFrame.\n",
    "- Identified and removed data related to abandoned matches where neither the batting nor bowling team won.\n",
    "- Filtered out matches that went into a super over and removed their data from the DataFrame.\n",
    "- Prepared the DataFrame for analysis by excluding data from abandoned and super over matches."
   ]
  },
  {
   "cell_type": "markdown",
   "id": "5irtFgP86HvG",
   "metadata": {
    "id": "5irtFgP86HvG"
   },
   "source": [
    "# Creating Final Columns of the data set"
   ]
  },
  {
   "cell_type": "markdown",
   "id": "wwVqaPVQ6SK9",
   "metadata": {
    "id": "wwVqaPVQ6SK9"
   },
   "source": [
    "### Column : Runs to be scored"
   ]
  },
  {
   "cell_type": "code",
   "execution_count": null,
   "id": "international-ability",
   "metadata": {
    "id": "international-ability"
   },
   "outputs": [],
   "source": [
    "def cum_sum(x, y):\n",
    "    remaining = {}\n",
    "    # Iterate through each unique match ID\n",
    "    for match_id in sorted(df[\"match_id\"].unique()):\n",
    "        # Calculate the cumulative sum of column x for each match_id\n",
    "        remaining[match_id] = pd.Series(df.loc[df[\"match_id\"] == match_id, x]).cumsum()\n",
    "        # Assign the cumulative sum values to column y for the corresponding match_id\n",
    "        df.loc[df.match_id == match_id, y] = remaining[match_id]"
   ]
  },
  {
   "cell_type": "code",
   "execution_count": null,
   "id": "tutorial-knight",
   "metadata": {
    "id": "tutorial-knight"
   },
   "outputs": [],
   "source": [
    "cum_sum(\"total\",\"runs_scored\")"
   ]
  },
  {
   "cell_type": "code",
   "execution_count": null,
   "id": "fourth-russell",
   "metadata": {
    "id": "fourth-russell"
   },
   "outputs": [],
   "source": [
    "# Create a new column named 'runs_to_be_scored' by subtracting 'runs_scored' from 'Targets'\n",
    "df[\"runs_to_be_scored\"] = df[\"Targets\"] - df[\"runs_scored\"]"
   ]
  },
  {
   "cell_type": "code",
   "execution_count": null,
   "id": "informational-introduction",
   "metadata": {
    "id": "informational-introduction"
   },
   "outputs": [],
   "source": [
    "# Drop the columns 'innings', 'Targets', and 'runs_scored' from the DataFrame\n",
    "df.drop(columns=[\"innings\", \"Targets\", \"runs_scored\"], inplace=True)"
   ]
  },
  {
   "cell_type": "code",
   "execution_count": null,
   "id": "portuguese-december",
   "metadata": {
    "id": "portuguese-december",
    "outputId": "7762a25f-9476-4719-9045-22ef4632a2a2"
   },
   "outputs": [
    {
     "data": {
      "text/html": [
       "<div>\n",
       "<style scoped>\n",
       "    .dataframe tbody tr th:only-of-type {\n",
       "        vertical-align: middle;\n",
       "    }\n",
       "\n",
       "    .dataframe tbody tr th {\n",
       "        vertical-align: top;\n",
       "    }\n",
       "\n",
       "    .dataframe thead th {\n",
       "        text-align: right;\n",
       "    }\n",
       "</style>\n",
       "<table border=\"1\" class=\"dataframe\">\n",
       "  <thead>\n",
       "    <tr style=\"text-align: right;\">\n",
       "      <th></th>\n",
       "      <th>match_id</th>\n",
       "      <th>season</th>\n",
       "      <th>ball</th>\n",
       "      <th>batting_team</th>\n",
       "      <th>bowling_team</th>\n",
       "      <th>runs_off_bat</th>\n",
       "      <th>extras</th>\n",
       "      <th>wides</th>\n",
       "      <th>noballs</th>\n",
       "      <th>wicket_type</th>\n",
       "      <th>date</th>\n",
       "      <th>total</th>\n",
       "      <th>winner</th>\n",
       "      <th>runs_to_be_scored</th>\n",
       "    </tr>\n",
       "  </thead>\n",
       "  <tbody>\n",
       "    <tr>\n",
       "      <th>124</th>\n",
       "      <td>335982</td>\n",
       "      <td>2008</td>\n",
       "      <td>0.1</td>\n",
       "      <td>Royal Challengers Bangalore</td>\n",
       "      <td>Kolkata Knight Riders</td>\n",
       "      <td>1</td>\n",
       "      <td>0</td>\n",
       "      <td>NaN</td>\n",
       "      <td>NaN</td>\n",
       "      <td>NaN</td>\n",
       "      <td>2008-04-18</td>\n",
       "      <td>1</td>\n",
       "      <td>Kolkata Knight Riders</td>\n",
       "      <td>222.0</td>\n",
       "    </tr>\n",
       "    <tr>\n",
       "      <th>125</th>\n",
       "      <td>335982</td>\n",
       "      <td>2008</td>\n",
       "      <td>0.2</td>\n",
       "      <td>Royal Challengers Bangalore</td>\n",
       "      <td>Kolkata Knight Riders</td>\n",
       "      <td>0</td>\n",
       "      <td>1</td>\n",
       "      <td>1.0</td>\n",
       "      <td>NaN</td>\n",
       "      <td>NaN</td>\n",
       "      <td>2008-04-18</td>\n",
       "      <td>1</td>\n",
       "      <td>Kolkata Knight Riders</td>\n",
       "      <td>221.0</td>\n",
       "    </tr>\n",
       "    <tr>\n",
       "      <th>126</th>\n",
       "      <td>335982</td>\n",
       "      <td>2008</td>\n",
       "      <td>0.3</td>\n",
       "      <td>Royal Challengers Bangalore</td>\n",
       "      <td>Kolkata Knight Riders</td>\n",
       "      <td>0</td>\n",
       "      <td>0</td>\n",
       "      <td>NaN</td>\n",
       "      <td>NaN</td>\n",
       "      <td>NaN</td>\n",
       "      <td>2008-04-18</td>\n",
       "      <td>0</td>\n",
       "      <td>Kolkata Knight Riders</td>\n",
       "      <td>221.0</td>\n",
       "    </tr>\n",
       "    <tr>\n",
       "      <th>127</th>\n",
       "      <td>335982</td>\n",
       "      <td>2008</td>\n",
       "      <td>0.4</td>\n",
       "      <td>Royal Challengers Bangalore</td>\n",
       "      <td>Kolkata Knight Riders</td>\n",
       "      <td>1</td>\n",
       "      <td>0</td>\n",
       "      <td>NaN</td>\n",
       "      <td>NaN</td>\n",
       "      <td>NaN</td>\n",
       "      <td>2008-04-18</td>\n",
       "      <td>1</td>\n",
       "      <td>Kolkata Knight Riders</td>\n",
       "      <td>220.0</td>\n",
       "    </tr>\n",
       "    <tr>\n",
       "      <th>128</th>\n",
       "      <td>335982</td>\n",
       "      <td>2008</td>\n",
       "      <td>0.5</td>\n",
       "      <td>Royal Challengers Bangalore</td>\n",
       "      <td>Kolkata Knight Riders</td>\n",
       "      <td>1</td>\n",
       "      <td>0</td>\n",
       "      <td>NaN</td>\n",
       "      <td>NaN</td>\n",
       "      <td>NaN</td>\n",
       "      <td>2008-04-18</td>\n",
       "      <td>1</td>\n",
       "      <td>Kolkata Knight Riders</td>\n",
       "      <td>219.0</td>\n",
       "    </tr>\n",
       "  </tbody>\n",
       "</table>\n",
       "</div>"
      ],
      "text/plain": [
       "     match_id  season  ball                 batting_team  \\\n",
       "124    335982    2008   0.1  Royal Challengers Bangalore   \n",
       "125    335982    2008   0.2  Royal Challengers Bangalore   \n",
       "126    335982    2008   0.3  Royal Challengers Bangalore   \n",
       "127    335982    2008   0.4  Royal Challengers Bangalore   \n",
       "128    335982    2008   0.5  Royal Challengers Bangalore   \n",
       "\n",
       "              bowling_team  runs_off_bat  extras  wides  noballs wicket_type  \\\n",
       "124  Kolkata Knight Riders             1       0    NaN      NaN         NaN   \n",
       "125  Kolkata Knight Riders             0       1    1.0      NaN         NaN   \n",
       "126  Kolkata Knight Riders             0       0    NaN      NaN         NaN   \n",
       "127  Kolkata Knight Riders             1       0    NaN      NaN         NaN   \n",
       "128  Kolkata Knight Riders             1       0    NaN      NaN         NaN   \n",
       "\n",
       "           date  total                 winner  runs_to_be_scored  \n",
       "124  2008-04-18      1  Kolkata Knight Riders              222.0  \n",
       "125  2008-04-18      1  Kolkata Knight Riders              221.0  \n",
       "126  2008-04-18      0  Kolkata Knight Riders              221.0  \n",
       "127  2008-04-18      1  Kolkata Knight Riders              220.0  \n",
       "128  2008-04-18      1  Kolkata Knight Riders              219.0  "
      ]
     },
     "execution_count": 50,
     "metadata": {},
     "output_type": "execute_result"
    }
   ],
   "source": [
    "df.head()"
   ]
  },
  {
   "cell_type": "markdown",
   "id": "FyAEYoJlH3LW",
   "metadata": {
    "id": "FyAEYoJlH3LW"
   },
   "source": [
    "## Balls Remaining"
   ]
  },
  {
   "cell_type": "code",
   "execution_count": null,
   "id": "tired-heritage",
   "metadata": {
    "id": "tired-heritage"
   },
   "outputs": [],
   "source": [
    "# Initialize a new column 'balls_remaining' with initial value 1\n",
    "df[\"balls_remaining\"] = 1\n",
    "\n",
    "# Update 'balls_remaining' column using cumulative sum function cum_sum\n",
    "cum_sum(\"balls\", \"balls_remaining\")"
   ]
  },
  {
   "cell_type": "code",
   "execution_count": null,
   "id": "compatible-authentication",
   "metadata": {
    "id": "compatible-authentication"
   },
   "outputs": [],
   "source": [
    "# Fill missing values in 'wides', 'noballs', and 'wicket_type' columns with \"0\"\n",
    "df[\"wides\"].fillna(\"0\", inplace=True)\n",
    "df[\"noballs\"].fillna(\"0\", inplace=True)\n",
    "df[\"wicket_type\"].fillna(\"0\", inplace=True)"
   ]
  },
  {
   "cell_type": "code",
   "execution_count": null,
   "id": "CoWF8bElIrgP",
   "metadata": {
    "id": "CoWF8bElIrgP"
   },
   "outputs": [],
   "source": [
    "# Convert 'wides' and 'noballs' columns to numeric type\n",
    "df[\"wides\"] = pd.to_numeric(df[\"wides\"])\n",
    "df[\"noballs\"] = pd.to_numeric(df[\"noballs\"])"
   ]
  },
  {
   "cell_type": "code",
   "execution_count": null,
   "id": "indoor-plaza",
   "metadata": {
    "id": "indoor-plaza"
   },
   "outputs": [],
   "source": [
    "# Create a new column 'extras' containing the maximum value of 'wides' and 'noballs' for each row\n",
    "df[\"extras\"] = df[[\"wides\", \"noballs\"]].max(axis=1)\n",
    "\n",
    "# Update 'extras' column using cumulative sum function cum_sum\n",
    "cum_sum(\"extras\", \"extras\")"
   ]
  },
  {
   "cell_type": "code",
   "execution_count": null,
   "id": "prescribed-might",
   "metadata": {
    "id": "prescribed-might"
   },
   "outputs": [],
   "source": [
    "# Calculate the remaining balls for each row by subtracting 'balls' from 120 and adding 'extras'\n",
    "df[\"balls_remaining\"] = 120 - df[\"balls\"] + df[\"extras\"]"
   ]
  },
  {
   "cell_type": "code",
   "execution_count": null,
   "id": "shared-hometown",
   "metadata": {
    "id": "shared-hometown",
    "outputId": "4ccc266a-07c4-47f2-dfcc-96d30c7e6e3f"
   },
   "outputs": [
    {
     "data": {
      "text/html": [
       "<div>\n",
       "<style scoped>\n",
       "    .dataframe tbody tr th:only-of-type {\n",
       "        vertical-align: middle;\n",
       "    }\n",
       "\n",
       "    .dataframe tbody tr th {\n",
       "        vertical-align: top;\n",
       "    }\n",
       "\n",
       "    .dataframe thead th {\n",
       "        text-align: right;\n",
       "    }\n",
       "</style>\n",
       "<table border=\"1\" class=\"dataframe\">\n",
       "  <thead>\n",
       "    <tr style=\"text-align: right;\">\n",
       "      <th></th>\n",
       "      <th>match_id</th>\n",
       "      <th>season</th>\n",
       "      <th>ball</th>\n",
       "      <th>batting_team</th>\n",
       "      <th>bowling_team</th>\n",
       "      <th>runs_off_bat</th>\n",
       "      <th>extras</th>\n",
       "      <th>wides</th>\n",
       "      <th>noballs</th>\n",
       "      <th>wicket_type</th>\n",
       "      <th>date</th>\n",
       "      <th>total</th>\n",
       "      <th>winner</th>\n",
       "      <th>runs_to_be_scored</th>\n",
       "      <th>balls_remaining</th>\n",
       "      <th>balls</th>\n",
       "    </tr>\n",
       "  </thead>\n",
       "  <tbody>\n",
       "    <tr>\n",
       "      <th>179682</th>\n",
       "      <td>1216534</td>\n",
       "      <td>2020</td>\n",
       "      <td>0.1</td>\n",
       "      <td>Sunrisers Hyderabad</td>\n",
       "      <td>Royal Challengers Bangalore</td>\n",
       "      <td>0</td>\n",
       "      <td>0.0</td>\n",
       "      <td>0.0</td>\n",
       "      <td>0.0</td>\n",
       "      <td>0</td>\n",
       "      <td>2020-09-21</td>\n",
       "      <td>0</td>\n",
       "      <td>Royal Challengers Bangalore</td>\n",
       "      <td>164.0</td>\n",
       "      <td>119.0</td>\n",
       "      <td>1.0</td>\n",
       "    </tr>\n",
       "    <tr>\n",
       "      <th>179683</th>\n",
       "      <td>1216534</td>\n",
       "      <td>2020</td>\n",
       "      <td>0.2</td>\n",
       "      <td>Sunrisers Hyderabad</td>\n",
       "      <td>Royal Challengers Bangalore</td>\n",
       "      <td>4</td>\n",
       "      <td>0.0</td>\n",
       "      <td>0.0</td>\n",
       "      <td>0.0</td>\n",
       "      <td>0</td>\n",
       "      <td>2020-09-21</td>\n",
       "      <td>4</td>\n",
       "      <td>Royal Challengers Bangalore</td>\n",
       "      <td>160.0</td>\n",
       "      <td>118.0</td>\n",
       "      <td>2.0</td>\n",
       "    </tr>\n",
       "    <tr>\n",
       "      <th>179684</th>\n",
       "      <td>1216534</td>\n",
       "      <td>2020</td>\n",
       "      <td>0.3</td>\n",
       "      <td>Sunrisers Hyderabad</td>\n",
       "      <td>Royal Challengers Bangalore</td>\n",
       "      <td>2</td>\n",
       "      <td>0.0</td>\n",
       "      <td>0.0</td>\n",
       "      <td>0.0</td>\n",
       "      <td>0</td>\n",
       "      <td>2020-09-21</td>\n",
       "      <td>2</td>\n",
       "      <td>Royal Challengers Bangalore</td>\n",
       "      <td>158.0</td>\n",
       "      <td>117.0</td>\n",
       "      <td>3.0</td>\n",
       "    </tr>\n",
       "    <tr>\n",
       "      <th>179685</th>\n",
       "      <td>1216534</td>\n",
       "      <td>2020</td>\n",
       "      <td>0.4</td>\n",
       "      <td>Sunrisers Hyderabad</td>\n",
       "      <td>Royal Challengers Bangalore</td>\n",
       "      <td>0</td>\n",
       "      <td>0.0</td>\n",
       "      <td>0.0</td>\n",
       "      <td>0.0</td>\n",
       "      <td>0</td>\n",
       "      <td>2020-09-21</td>\n",
       "      <td>0</td>\n",
       "      <td>Royal Challengers Bangalore</td>\n",
       "      <td>158.0</td>\n",
       "      <td>116.0</td>\n",
       "      <td>4.0</td>\n",
       "    </tr>\n",
       "    <tr>\n",
       "      <th>179686</th>\n",
       "      <td>1216534</td>\n",
       "      <td>2020</td>\n",
       "      <td>0.5</td>\n",
       "      <td>Sunrisers Hyderabad</td>\n",
       "      <td>Royal Challengers Bangalore</td>\n",
       "      <td>0</td>\n",
       "      <td>0.0</td>\n",
       "      <td>0.0</td>\n",
       "      <td>0.0</td>\n",
       "      <td>0</td>\n",
       "      <td>2020-09-21</td>\n",
       "      <td>0</td>\n",
       "      <td>Royal Challengers Bangalore</td>\n",
       "      <td>158.0</td>\n",
       "      <td>115.0</td>\n",
       "      <td>5.0</td>\n",
       "    </tr>\n",
       "  </tbody>\n",
       "</table>\n",
       "</div>"
      ],
      "text/plain": [
       "        match_id  season  ball         batting_team  \\\n",
       "179682   1216534    2020   0.1  Sunrisers Hyderabad   \n",
       "179683   1216534    2020   0.2  Sunrisers Hyderabad   \n",
       "179684   1216534    2020   0.3  Sunrisers Hyderabad   \n",
       "179685   1216534    2020   0.4  Sunrisers Hyderabad   \n",
       "179686   1216534    2020   0.5  Sunrisers Hyderabad   \n",
       "\n",
       "                       bowling_team  runs_off_bat  extras  wides  noballs  \\\n",
       "179682  Royal Challengers Bangalore             0     0.0    0.0      0.0   \n",
       "179683  Royal Challengers Bangalore             4     0.0    0.0      0.0   \n",
       "179684  Royal Challengers Bangalore             2     0.0    0.0      0.0   \n",
       "179685  Royal Challengers Bangalore             0     0.0    0.0      0.0   \n",
       "179686  Royal Challengers Bangalore             0     0.0    0.0      0.0   \n",
       "\n",
       "       wicket_type        date  total                       winner  \\\n",
       "179682           0  2020-09-21      0  Royal Challengers Bangalore   \n",
       "179683           0  2020-09-21      4  Royal Challengers Bangalore   \n",
       "179684           0  2020-09-21      2  Royal Challengers Bangalore   \n",
       "179685           0  2020-09-21      0  Royal Challengers Bangalore   \n",
       "179686           0  2020-09-21      0  Royal Challengers Bangalore   \n",
       "\n",
       "        runs_to_be_scored  balls_remaining  balls  \n",
       "179682              164.0            119.0    1.0  \n",
       "179683              160.0            118.0    2.0  \n",
       "179684              158.0            117.0    3.0  \n",
       "179685              158.0            116.0    4.0  \n",
       "179686              158.0            115.0    5.0  "
      ]
     },
     "execution_count": 64,
     "metadata": {},
     "output_type": "execute_result"
    }
   ],
   "source": [
    "df.loc[df[\"match_id\"]==1216534].head()"
   ]
  },
  {
   "cell_type": "markdown",
   "id": "N7pDAIqwI99F",
   "metadata": {
    "id": "N7pDAIqwI99F"
   },
   "source": [
    "## Wickets Remaining"
   ]
  },
  {
   "cell_type": "code",
   "execution_count": null,
   "id": "outside-commerce",
   "metadata": {
    "id": "outside-commerce"
   },
   "outputs": [],
   "source": [
    "# Replace non-zero values in 'wicket_type' column with 1\n",
    "df.loc[df.wicket_type != \"0\", \"wicket_type\"] = 1\n",
    "\n",
    "# Convert 'wicket_type' column to numeric type\n",
    "df[\"wicket_type\"] = pd.to_numeric(df[\"wicket_type\"])"
   ]
  },
  {
   "cell_type": "code",
   "execution_count": null,
   "id": "parliamentary-consciousness",
   "metadata": {
    "id": "parliamentary-consciousness"
   },
   "outputs": [],
   "source": [
    "cum_sum(\"wicket_type\",\"wicket_type\")"
   ]
  },
  {
   "cell_type": "code",
   "execution_count": null,
   "id": "overall-bristol",
   "metadata": {
    "id": "overall-bristol"
   },
   "outputs": [],
   "source": [
    "# Calculate the remaining wickets for each row by subtracting 'wicket_type' from 10\n",
    "df[\"wickets_remaining\"] = 10 - df[\"wicket_type\"]"
   ]
  },
  {
   "cell_type": "code",
   "execution_count": null,
   "id": "figured-lightweight",
   "metadata": {
    "id": "figured-lightweight",
    "outputId": "9f67f138-0291-436f-ad6e-cfcc6f6ec5a7"
   },
   "outputs": [
    {
     "data": {
      "text/html": [
       "<div>\n",
       "<style scoped>\n",
       "    .dataframe tbody tr th:only-of-type {\n",
       "        vertical-align: middle;\n",
       "    }\n",
       "\n",
       "    .dataframe tbody tr th {\n",
       "        vertical-align: top;\n",
       "    }\n",
       "\n",
       "    .dataframe thead th {\n",
       "        text-align: right;\n",
       "    }\n",
       "</style>\n",
       "<table border=\"1\" class=\"dataframe\">\n",
       "  <thead>\n",
       "    <tr style=\"text-align: right;\">\n",
       "      <th></th>\n",
       "      <th>match_id</th>\n",
       "      <th>season</th>\n",
       "      <th>ball</th>\n",
       "      <th>batting_team</th>\n",
       "      <th>bowling_team</th>\n",
       "      <th>runs_off_bat</th>\n",
       "      <th>extras</th>\n",
       "      <th>wides</th>\n",
       "      <th>noballs</th>\n",
       "      <th>wicket_type</th>\n",
       "      <th>date</th>\n",
       "      <th>total</th>\n",
       "      <th>winner</th>\n",
       "      <th>runs_to_be_scored</th>\n",
       "      <th>balls_remaining</th>\n",
       "      <th>balls</th>\n",
       "      <th>wickets_remaining</th>\n",
       "    </tr>\n",
       "  </thead>\n",
       "  <tbody>\n",
       "    <tr>\n",
       "      <th>124</th>\n",
       "      <td>335982</td>\n",
       "      <td>2008</td>\n",
       "      <td>0.1</td>\n",
       "      <td>Royal Challengers Bangalore</td>\n",
       "      <td>Kolkata Knight Riders</td>\n",
       "      <td>1</td>\n",
       "      <td>0.0</td>\n",
       "      <td>0.0</td>\n",
       "      <td>0.0</td>\n",
       "      <td>0.0</td>\n",
       "      <td>2008-04-18</td>\n",
       "      <td>1</td>\n",
       "      <td>Kolkata Knight Riders</td>\n",
       "      <td>222.0</td>\n",
       "      <td>119.0</td>\n",
       "      <td>1.0</td>\n",
       "      <td>10.0</td>\n",
       "    </tr>\n",
       "    <tr>\n",
       "      <th>125</th>\n",
       "      <td>335982</td>\n",
       "      <td>2008</td>\n",
       "      <td>0.2</td>\n",
       "      <td>Royal Challengers Bangalore</td>\n",
       "      <td>Kolkata Knight Riders</td>\n",
       "      <td>0</td>\n",
       "      <td>1.0</td>\n",
       "      <td>1.0</td>\n",
       "      <td>0.0</td>\n",
       "      <td>0.0</td>\n",
       "      <td>2008-04-18</td>\n",
       "      <td>1</td>\n",
       "      <td>Kolkata Knight Riders</td>\n",
       "      <td>221.0</td>\n",
       "      <td>119.0</td>\n",
       "      <td>2.0</td>\n",
       "      <td>10.0</td>\n",
       "    </tr>\n",
       "    <tr>\n",
       "      <th>126</th>\n",
       "      <td>335982</td>\n",
       "      <td>2008</td>\n",
       "      <td>0.3</td>\n",
       "      <td>Royal Challengers Bangalore</td>\n",
       "      <td>Kolkata Knight Riders</td>\n",
       "      <td>0</td>\n",
       "      <td>1.0</td>\n",
       "      <td>0.0</td>\n",
       "      <td>0.0</td>\n",
       "      <td>0.0</td>\n",
       "      <td>2008-04-18</td>\n",
       "      <td>0</td>\n",
       "      <td>Kolkata Knight Riders</td>\n",
       "      <td>221.0</td>\n",
       "      <td>118.0</td>\n",
       "      <td>3.0</td>\n",
       "      <td>10.0</td>\n",
       "    </tr>\n",
       "    <tr>\n",
       "      <th>127</th>\n",
       "      <td>335982</td>\n",
       "      <td>2008</td>\n",
       "      <td>0.4</td>\n",
       "      <td>Royal Challengers Bangalore</td>\n",
       "      <td>Kolkata Knight Riders</td>\n",
       "      <td>1</td>\n",
       "      <td>1.0</td>\n",
       "      <td>0.0</td>\n",
       "      <td>0.0</td>\n",
       "      <td>0.0</td>\n",
       "      <td>2008-04-18</td>\n",
       "      <td>1</td>\n",
       "      <td>Kolkata Knight Riders</td>\n",
       "      <td>220.0</td>\n",
       "      <td>117.0</td>\n",
       "      <td>4.0</td>\n",
       "      <td>10.0</td>\n",
       "    </tr>\n",
       "    <tr>\n",
       "      <th>128</th>\n",
       "      <td>335982</td>\n",
       "      <td>2008</td>\n",
       "      <td>0.5</td>\n",
       "      <td>Royal Challengers Bangalore</td>\n",
       "      <td>Kolkata Knight Riders</td>\n",
       "      <td>1</td>\n",
       "      <td>1.0</td>\n",
       "      <td>0.0</td>\n",
       "      <td>0.0</td>\n",
       "      <td>0.0</td>\n",
       "      <td>2008-04-18</td>\n",
       "      <td>1</td>\n",
       "      <td>Kolkata Knight Riders</td>\n",
       "      <td>219.0</td>\n",
       "      <td>116.0</td>\n",
       "      <td>5.0</td>\n",
       "      <td>10.0</td>\n",
       "    </tr>\n",
       "  </tbody>\n",
       "</table>\n",
       "</div>"
      ],
      "text/plain": [
       "     match_id  season  ball                 batting_team  \\\n",
       "124    335982    2008   0.1  Royal Challengers Bangalore   \n",
       "125    335982    2008   0.2  Royal Challengers Bangalore   \n",
       "126    335982    2008   0.3  Royal Challengers Bangalore   \n",
       "127    335982    2008   0.4  Royal Challengers Bangalore   \n",
       "128    335982    2008   0.5  Royal Challengers Bangalore   \n",
       "\n",
       "              bowling_team  runs_off_bat  extras  wides  noballs  wicket_type  \\\n",
       "124  Kolkata Knight Riders             1     0.0    0.0      0.0          0.0   \n",
       "125  Kolkata Knight Riders             0     1.0    1.0      0.0          0.0   \n",
       "126  Kolkata Knight Riders             0     1.0    0.0      0.0          0.0   \n",
       "127  Kolkata Knight Riders             1     1.0    0.0      0.0          0.0   \n",
       "128  Kolkata Knight Riders             1     1.0    0.0      0.0          0.0   \n",
       "\n",
       "           date  total                 winner  runs_to_be_scored  \\\n",
       "124  2008-04-18      1  Kolkata Knight Riders              222.0   \n",
       "125  2008-04-18      1  Kolkata Knight Riders              221.0   \n",
       "126  2008-04-18      0  Kolkata Knight Riders              221.0   \n",
       "127  2008-04-18      1  Kolkata Knight Riders              220.0   \n",
       "128  2008-04-18      1  Kolkata Knight Riders              219.0   \n",
       "\n",
       "     balls_remaining  balls  wickets_remaining  \n",
       "124            119.0    1.0               10.0  \n",
       "125            119.0    2.0               10.0  \n",
       "126            118.0    3.0               10.0  \n",
       "127            117.0    4.0               10.0  \n",
       "128            116.0    5.0               10.0  "
      ]
     },
     "execution_count": 70,
     "metadata": {},
     "output_type": "execute_result"
    }
   ],
   "source": [
    "df.head()"
   ]
  },
  {
   "cell_type": "code",
   "execution_count": null,
   "id": "greek-opportunity",
   "metadata": {
    "id": "greek-opportunity"
   },
   "outputs": [],
   "source": [
    "# Create a new column 'new_winner' and assign value 1 where batting_team is not equal to winner, and 2 where batting_team is equal to winner\n",
    "df.loc[df.batting_team != df.winner, \"new_winner\"] = 1\n",
    "df.loc[df.batting_team == df.winner, \"new_winner\"] = 2"
   ]
  },
  {
   "cell_type": "markdown",
   "id": "XwIMuoNhPgvU",
   "metadata": {
    "id": "XwIMuoNhPgvU"
   },
   "source": [
    "**Section Highlights**\n",
    "\n",
    "*Runs to be Scored:*\n",
    "\n",
    "- Created a new column named 'runs_to_be_scored' by subtracting 'runs_scored' from 'Targets'.\n",
    "- Removed columns 'innings', 'Targets', and 'runs_scored' from the DataFrame.\n",
    "\n",
    "*Balls Remaining:*\n",
    "\n",
    "- Initialized and updated a new column 'balls_remaining' using cumulative sum calculations based on the 'balls' column.\n",
    "- Filled missing values in 'wides', 'noballs', and 'wicket_type' columns with \"0\" and converted them to numeric type.\n",
    "- Created a new column 'extras' containing the maximum value of 'wides' and 'noballs' for each row and updated it using cumulative sum calculations.\n",
    "- Calculated the remaining balls for each row by subtracting 'balls' from 120 and adding 'extras'.\n",
    "\n",
    "*Wickets Remaining:*\n",
    "\n",
    "- Converted non-zero values in the 'wicket_type' column to 1 and calculated the remaining wickets for each row.\n",
    "- Created a new column 'new_winner' with values 1 where the batting team is not equal to the winner and 2 where they are equal."
   ]
  },
  {
   "cell_type": "markdown",
   "id": "x9va7uChJaXK",
   "metadata": {
    "id": "x9va7uChJaXK"
   },
   "source": [
    "## Save Final Data Set"
   ]
  },
  {
   "cell_type": "code",
   "execution_count": null,
   "id": "fabulous-flashing",
   "metadata": {
    "id": "fabulous-flashing"
   },
   "outputs": [],
   "source": [
    "# Create a new DataFrame 'IPL_DATASET' containing selected columns\n",
    "IPL_DATASET = df.loc[:, [\"date\", \"match_id\", \"runs_to_be_scored\", \"balls_remaining\", \"wickets_remaining\", \"new_winner\"]]"
   ]
  },
  {
   "cell_type": "code",
   "execution_count": null,
   "id": "continental-amateur",
   "metadata": {
    "id": "continental-amateur"
   },
   "outputs": [],
   "source": [
    "# Save the IPL_DATASET DataFrame to a CSV file named \"final_dataset.csv\"\n",
    "IPL_DATASET.to_csv(\"dataset_before_clustering.csv\", index=False)"
   ]
  }
 ],
 "metadata": {
  "colab": {
   "collapsed_sections": [
    "XlOEPl1TycHf",
    "unexpected-winning",
    "gLNkTBJUtxCm",
    "Src1ZX_B0yC6",
    "K8aTXbSVyGe4",
    "jJCGipWR3kHz",
    "5irtFgP86HvG",
    "wwVqaPVQ6SK9",
    "FyAEYoJlH3LW",
    "N7pDAIqwI99F"
   ],
   "provenance": []
  },
  "kernelspec": {
   "display_name": "Python 3",
   "language": "python",
   "name": "python3"
  },
  "language_info": {
   "codemirror_mode": {
    "name": "ipython",
    "version": 3
   },
   "file_extension": ".py",
   "mimetype": "text/x-python",
   "name": "python",
   "nbconvert_exporter": "python",
   "pygments_lexer": "ipython3",
   "version": "3.8.8"
  }
 },
 "nbformat": 4,
 "nbformat_minor": 5
}
