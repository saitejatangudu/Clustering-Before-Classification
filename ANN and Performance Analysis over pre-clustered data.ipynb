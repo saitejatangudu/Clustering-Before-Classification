{
 "cells": [
  {
   "cell_type": "markdown",
   "metadata": {},
   "source": [
    "This notebook explores the enhancement of classification performance using pre-clustered IPL cricket match data. By leveraging clustering techniques as a preprocessing step, the notebook aims to improve the accuracy of ANN classification model in predicting match outcomes.\n",
    "\n",
    "**Key Components**\n",
    "\n",
    "1. **Model Configuration and Training**\n",
    "   - The notebook begins by defining various configurations of neural network models using different activation functions, weight initializers, and optimizers.\n",
    "   - These models are compiled and trained on the pre-clustered IPL match data.\n",
    "\n",
    "2. **Evaluation Metrics and Visualization**\n",
    "   - After training the models, evaluation metrics such as accuracy score, classification report, confusion matrix, and ROC curve are computed.\n",
    "   - These metrics provide insights into the performance of the models and the impact of clustering on classification accuracy.\n",
    "   - Additionally, bar plots are created to compare the performance of different models based on accuracy and ROC AUC score.\n",
    "\n",
    "**Conclusion**\n",
    "\n",
    "The notebook demonstrates the process of building, training, and evaluating neural network models for a classification task using pre-clustered IPL cricket match data. By exploring various configurations and leveraging clustering as a preprocessing step, the notebook aims to identify the most effective model for predicting match outcomes accurately."
   ]
  },
  {
   "cell_type": "code",
   "execution_count": null,
   "metadata": {
    "id": "iReD9swgqDmw"
   },
   "outputs": [],
   "source": [
    "# Importing necessary libraries\n",
    "from sklearn.model_selection import train_test_split  # Importing train_test_split function for splitting data\n",
    "from sklearn import metrics  # Importing scikit-learn metrics module for accuracy calculation\n",
    "import pandas as pd  # Importing pandas library for data manipulation"
   ]
  },
  {
   "cell_type": "code",
   "execution_count": null,
   "metadata": {
    "id": "ZYgtYE6Fp4V-"
   },
   "outputs": [],
   "source": [
    "# Load the data from the CSV file\n",
    "data = pd.read_csv(\"dataset_after_clustering.csv\")\n",
    "\n",
    "# Selecting features and target variable\n",
    "X_data = data.loc[:, [\"runs_to_be_scored\", \"balls_remaining\", \"wickets_remaining\", \"label\"]]\n",
    "Y_data = data.loc[:, [\"match_winner\"]]\n",
    "\n",
    "# Splitting the data into training, validation, and test sets\n",
    "train_data, test_data, train_label, test_label = train_test_split(X_data, Y_data, test_size=0.2, random_state=42)\n",
    "train_data, val_data, train_label, val_label = train_test_split(train_data, train_label, test_size=0.1, random_state=42)"
   ]
  },
  {
   "cell_type": "code",
   "execution_count": null,
   "metadata": {
    "id": "6wxxB7OcZPs1"
   },
   "outputs": [],
   "source": [
    "# Convert DataFrame to NumPy array and flatten label arrays\n",
    "train_data = train_data.to_numpy()\n",
    "test_data = test_data.to_numpy()\n",
    "train_label = train_label.to_numpy().flatten()\n",
    "test_label = test_label.to_numpy().flatten()\n",
    "org_test_label = test_label.copy()  # Store a copy of the original test labels"
   ]
  },
  {
   "cell_type": "code",
   "execution_count": null,
   "metadata": {
    "colab": {
     "base_uri": "https://localhost:8080/"
    },
    "id": "XaYD5JKoZtNg",
    "outputId": "b77b9649-04f8-472d-9a7c-18504de17ae7"
   },
   "outputs": [
    {
     "data": {
      "text/plain": [
       "array([[ 28.,  25.,   6.,   0.],\n",
       "       [148.,  99.,   8.,   1.],\n",
       "       [ 83.,  90.,   9.,   1.],\n",
       "       ...,\n",
       "       [ 68.,  10.,   2.,   0.],\n",
       "       [ 79.,  35.,   6.,   0.],\n",
       "       [155., 115.,  10.,   1.]])"
      ]
     },
     "execution_count": 25,
     "metadata": {
      "tags": []
     },
     "output_type": "execute_result"
    }
   ],
   "source": [
    "traindata"
   ]
  },
  {
   "cell_type": "code",
   "execution_count": null,
   "metadata": {
    "id": "xIYUaWsdP5y-"
   },
   "outputs": [],
   "source": [
    "from keras.utils import to_categorical\n",
    "\n",
    "# Convert labels to categorical format\n",
    "train_label = to_categorical(train_label)\n",
    "test_label = to_categorical(test_label)"
   ]
  },
  {
   "cell_type": "code",
   "execution_count": null,
   "metadata": {
    "colab": {
     "base_uri": "https://localhost:8080/"
    },
    "id": "CEc0k_KuL9lr",
    "outputId": "3d5e59bd-f5fa-465d-8367-2170e113644b"
   },
   "outputs": [
    {
     "name": "stdout",
     "output_type": "stream",
     "text": [
      "Epoch 1/100\n",
      "74/74 [==============================] - 19s 249ms/step - loss: 1.6959 - accuracy: 0.7203 - val_loss: 0.4629 - val_accuracy: 0.7546\n",
      "Epoch 2/100\n",
      "74/74 [==============================] - 18s 246ms/step - loss: 0.4497 - accuracy: 0.7662 - val_loss: 0.4440 - val_accuracy: 0.7663\n",
      "Epoch 3/100\n",
      "74/74 [==============================] - 18s 245ms/step - loss: 0.4435 - accuracy: 0.7715 - val_loss: 0.4350 - val_accuracy: 0.7754\n",
      "Epoch 4/100\n",
      "74/74 [==============================] - 18s 245ms/step - loss: 0.4482 - accuracy: 0.7685 - val_loss: 0.4560 - val_accuracy: 0.7604\n",
      "Epoch 5/100\n",
      "74/74 [==============================] - 18s 245ms/step - loss: 0.4473 - accuracy: 0.7679 - val_loss: 0.5102 - val_accuracy: 0.7431\n",
      "Epoch 6/100\n",
      "74/74 [==============================] - 18s 246ms/step - loss: 0.4517 - accuracy: 0.7659 - val_loss: 0.4316 - val_accuracy: 0.7753\n",
      "Epoch 7/100\n",
      "74/74 [==============================] - 18s 245ms/step - loss: 0.4365 - accuracy: 0.7752 - val_loss: 0.4291 - val_accuracy: 0.7784\n",
      "Epoch 8/100\n",
      "74/74 [==============================] - 18s 246ms/step - loss: 0.4336 - accuracy: 0.7771 - val_loss: 0.4301 - val_accuracy: 0.7772\n",
      "Epoch 9/100\n",
      "74/74 [==============================] - 18s 246ms/step - loss: 0.4367 - accuracy: 0.7749 - val_loss: 0.4316 - val_accuracy: 0.7778\n",
      "Epoch 10/100\n",
      "74/74 [==============================] - 18s 245ms/step - loss: 0.4407 - accuracy: 0.7721 - val_loss: 0.4438 - val_accuracy: 0.7663\n",
      "Epoch 11/100\n",
      "74/74 [==============================] - 18s 246ms/step - loss: 0.4334 - accuracy: 0.7768 - val_loss: 0.4390 - val_accuracy: 0.7692\n",
      "Epoch 12/100\n",
      "74/74 [==============================] - 18s 246ms/step - loss: 0.4324 - accuracy: 0.7788 - val_loss: 0.4293 - val_accuracy: 0.7807\n",
      "Epoch 13/100\n",
      "74/74 [==============================] - 18s 245ms/step - loss: 0.4447 - accuracy: 0.7673 - val_loss: 0.4441 - val_accuracy: 0.7662\n",
      "Epoch 14/100\n",
      "74/74 [==============================] - 18s 244ms/step - loss: 0.4316 - accuracy: 0.7786 - val_loss: 0.4488 - val_accuracy: 0.7660\n",
      "Epoch 15/100\n",
      "74/74 [==============================] - 18s 247ms/step - loss: 0.4371 - accuracy: 0.7748 - val_loss: 0.4305 - val_accuracy: 0.7813\n",
      "Epoch 16/100\n",
      "74/74 [==============================] - 18s 248ms/step - loss: 0.4348 - accuracy: 0.7747 - val_loss: 0.4484 - val_accuracy: 0.7611\n",
      "Epoch 17/100\n",
      "74/74 [==============================] - 18s 246ms/step - loss: 0.4331 - accuracy: 0.7772 - val_loss: 0.4312 - val_accuracy: 0.7780\n",
      "Epoch 18/100\n",
      "74/74 [==============================] - 18s 247ms/step - loss: 0.4352 - accuracy: 0.7750 - val_loss: 0.4301 - val_accuracy: 0.7803\n",
      "Epoch 19/100\n",
      "74/74 [==============================] - 18s 247ms/step - loss: 0.4325 - accuracy: 0.7767 - val_loss: 0.4293 - val_accuracy: 0.7776\n",
      "Epoch 20/100\n",
      "74/74 [==============================] - 18s 244ms/step - loss: 0.4304 - accuracy: 0.7791 - val_loss: 0.4290 - val_accuracy: 0.7777\n",
      "Epoch 21/100\n",
      "74/74 [==============================] - 18s 244ms/step - loss: 0.4308 - accuracy: 0.7786 - val_loss: 0.4495 - val_accuracy: 0.7618\n",
      "Epoch 22/100\n",
      "74/74 [==============================] - 18s 246ms/step - loss: 0.4327 - accuracy: 0.7771 - val_loss: 0.4427 - val_accuracy: 0.7679\n",
      "Epoch 23/100\n",
      "74/74 [==============================] - 18s 245ms/step - loss: 0.4285 - accuracy: 0.7821 - val_loss: 0.4291 - val_accuracy: 0.7818\n",
      "Epoch 24/100\n",
      "74/74 [==============================] - 18s 248ms/step - loss: 0.4303 - accuracy: 0.7796 - val_loss: 0.4334 - val_accuracy: 0.7787\n",
      "Epoch 25/100\n",
      "74/74 [==============================] - 18s 248ms/step - loss: 0.4310 - accuracy: 0.7786 - val_loss: 0.4291 - val_accuracy: 0.7772\n",
      "Epoch 26/100\n",
      "74/74 [==============================] - 18s 249ms/step - loss: 0.4319 - accuracy: 0.7777 - val_loss: 0.4290 - val_accuracy: 0.7806\n",
      "Epoch 27/100\n",
      "74/74 [==============================] - 18s 245ms/step - loss: 0.4306 - accuracy: 0.7785 - val_loss: 0.4274 - val_accuracy: 0.7782\n",
      "Epoch 28/100\n",
      "74/74 [==============================] - 18s 246ms/step - loss: 0.4309 - accuracy: 0.7798 - val_loss: 0.4277 - val_accuracy: 0.7828\n",
      "Epoch 29/100\n",
      "74/74 [==============================] - 18s 247ms/step - loss: 0.4322 - accuracy: 0.7774 - val_loss: 0.4469 - val_accuracy: 0.7658\n",
      "Epoch 30/100\n",
      "74/74 [==============================] - 18s 247ms/step - loss: 0.4331 - accuracy: 0.7764 - val_loss: 0.4284 - val_accuracy: 0.7785\n",
      "Epoch 31/100\n",
      "74/74 [==============================] - 18s 246ms/step - loss: 0.4285 - accuracy: 0.7813 - val_loss: 0.4265 - val_accuracy: 0.7809\n",
      "Epoch 32/100\n",
      "74/74 [==============================] - 18s 247ms/step - loss: 0.4318 - accuracy: 0.7775 - val_loss: 0.4278 - val_accuracy: 0.7818\n",
      "Epoch 33/100\n",
      "74/74 [==============================] - 18s 247ms/step - loss: 0.4287 - accuracy: 0.7810 - val_loss: 0.4279 - val_accuracy: 0.7766\n",
      "Epoch 34/100\n",
      "74/74 [==============================] - 18s 246ms/step - loss: 0.4286 - accuracy: 0.7810 - val_loss: 0.4272 - val_accuracy: 0.7793\n",
      "Epoch 35/100\n",
      "74/74 [==============================] - 18s 248ms/step - loss: 0.4318 - accuracy: 0.7771 - val_loss: 0.4270 - val_accuracy: 0.7783\n",
      "Epoch 36/100\n",
      "74/74 [==============================] - 18s 246ms/step - loss: 0.4327 - accuracy: 0.7772 - val_loss: 0.4284 - val_accuracy: 0.7782\n",
      "Epoch 37/100\n",
      "74/74 [==============================] - 18s 245ms/step - loss: 0.4283 - accuracy: 0.7816 - val_loss: 0.4336 - val_accuracy: 0.7737\n",
      "Epoch 38/100\n",
      "74/74 [==============================] - 18s 247ms/step - loss: 0.4280 - accuracy: 0.7815 - val_loss: 0.4274 - val_accuracy: 0.7818\n",
      "Epoch 39/100\n",
      "74/74 [==============================] - 18s 246ms/step - loss: 0.4306 - accuracy: 0.7786 - val_loss: 0.4265 - val_accuracy: 0.7772\n",
      "Epoch 40/100\n",
      "74/74 [==============================] - 18s 245ms/step - loss: 0.4269 - accuracy: 0.7817 - val_loss: 0.4275 - val_accuracy: 0.7774\n",
      "Epoch 41/100\n",
      "74/74 [==============================] - 18s 245ms/step - loss: 0.4318 - accuracy: 0.7779 - val_loss: 0.4276 - val_accuracy: 0.7797\n",
      "Epoch 42/100\n",
      "74/74 [==============================] - 18s 246ms/step - loss: 0.4271 - accuracy: 0.7808 - val_loss: 0.4263 - val_accuracy: 0.7801\n",
      "Epoch 43/100\n",
      "74/74 [==============================] - 18s 246ms/step - loss: 0.4285 - accuracy: 0.7803 - val_loss: 0.4375 - val_accuracy: 0.7688\n",
      "Epoch 44/100\n",
      "74/74 [==============================] - 18s 244ms/step - loss: 0.4299 - accuracy: 0.7800 - val_loss: 0.4263 - val_accuracy: 0.7808\n",
      "Epoch 45/100\n",
      "74/74 [==============================] - 18s 247ms/step - loss: 0.4278 - accuracy: 0.7806 - val_loss: 0.4288 - val_accuracy: 0.7818\n",
      "Epoch 46/100\n",
      "74/74 [==============================] - 18s 248ms/step - loss: 0.4255 - accuracy: 0.7823 - val_loss: 0.4340 - val_accuracy: 0.7729\n",
      "Epoch 47/100\n",
      "74/74 [==============================] - 18s 246ms/step - loss: 0.4289 - accuracy: 0.7794 - val_loss: 0.4720 - val_accuracy: 0.7548\n",
      "Epoch 48/100\n",
      "74/74 [==============================] - 18s 246ms/step - loss: 0.4284 - accuracy: 0.7807 - val_loss: 0.4254 - val_accuracy: 0.7798\n",
      "Epoch 49/100\n",
      "74/74 [==============================] - 18s 246ms/step - loss: 0.4272 - accuracy: 0.7813 - val_loss: 0.4343 - val_accuracy: 0.7696\n",
      "Epoch 50/100\n",
      "74/74 [==============================] - 18s 246ms/step - loss: 0.4296 - accuracy: 0.7797 - val_loss: 0.4321 - val_accuracy: 0.7710\n",
      "Epoch 51/100\n",
      "74/74 [==============================] - 18s 245ms/step - loss: 0.4248 - accuracy: 0.7834 - val_loss: 0.4271 - val_accuracy: 0.7807\n",
      "Epoch 52/100\n",
      "74/74 [==============================] - 18s 247ms/step - loss: 0.4286 - accuracy: 0.7795 - val_loss: 0.4335 - val_accuracy: 0.7775\n",
      "Epoch 53/100\n",
      "74/74 [==============================] - 18s 245ms/step - loss: 0.4279 - accuracy: 0.7801 - val_loss: 0.4336 - val_accuracy: 0.7785\n",
      "Epoch 54/100\n",
      "74/74 [==============================] - 18s 246ms/step - loss: 0.4273 - accuracy: 0.7807 - val_loss: 0.4314 - val_accuracy: 0.7777\n",
      "Epoch 55/100\n",
      "74/74 [==============================] - 18s 249ms/step - loss: 0.4265 - accuracy: 0.7828 - val_loss: 0.4266 - val_accuracy: 0.7805\n",
      "Epoch 56/100\n",
      "74/74 [==============================] - 18s 246ms/step - loss: 0.4272 - accuracy: 0.7804 - val_loss: 0.4262 - val_accuracy: 0.7781\n",
      "Epoch 57/100\n",
      "74/74 [==============================] - 18s 245ms/step - loss: 0.4293 - accuracy: 0.7778 - val_loss: 0.4298 - val_accuracy: 0.7766\n",
      "Epoch 58/100\n",
      "74/74 [==============================] - 18s 245ms/step - loss: 0.4251 - accuracy: 0.7829 - val_loss: 0.4255 - val_accuracy: 0.7779\n",
      "Epoch 59/100\n",
      "74/74 [==============================] - 18s 245ms/step - loss: 0.4243 - accuracy: 0.7828 - val_loss: 0.4300 - val_accuracy: 0.7779\n",
      "Epoch 60/100\n",
      "74/74 [==============================] - 18s 245ms/step - loss: 0.4244 - accuracy: 0.7832 - val_loss: 0.4292 - val_accuracy: 0.7801\n",
      "Epoch 61/100\n",
      "74/74 [==============================] - 18s 245ms/step - loss: 0.4265 - accuracy: 0.7824 - val_loss: 0.4260 - val_accuracy: 0.7788\n",
      "Epoch 62/100\n",
      "74/74 [==============================] - 18s 245ms/step - loss: 0.4287 - accuracy: 0.7804 - val_loss: 0.4252 - val_accuracy: 0.7813\n",
      "Epoch 63/100\n",
      "74/74 [==============================] - 18s 246ms/step - loss: 0.4261 - accuracy: 0.7826 - val_loss: 0.4249 - val_accuracy: 0.7813\n",
      "Epoch 64/100\n",
      "74/74 [==============================] - 18s 246ms/step - loss: 0.4251 - accuracy: 0.7806 - val_loss: 0.4374 - val_accuracy: 0.7703\n",
      "Epoch 65/100\n",
      "74/74 [==============================] - 19s 251ms/step - loss: 0.4293 - accuracy: 0.7795 - val_loss: 0.4271 - val_accuracy: 0.7803\n",
      "Epoch 66/100\n",
      "74/74 [==============================] - 18s 248ms/step - loss: 0.4257 - accuracy: 0.7809 - val_loss: 0.4270 - val_accuracy: 0.7770\n",
      "Epoch 67/100\n",
      "74/74 [==============================] - 18s 246ms/step - loss: 0.4237 - accuracy: 0.7822 - val_loss: 0.4308 - val_accuracy: 0.7744\n",
      "Epoch 68/100\n",
      "74/74 [==============================] - 18s 245ms/step - loss: 0.4250 - accuracy: 0.7826 - val_loss: 0.4243 - val_accuracy: 0.7794\n",
      "Epoch 69/100\n",
      "74/74 [==============================] - 18s 246ms/step - loss: 0.4253 - accuracy: 0.7815 - val_loss: 0.4414 - val_accuracy: 0.7683\n",
      "Epoch 70/100\n",
      "74/74 [==============================] - 18s 245ms/step - loss: 0.4260 - accuracy: 0.7815 - val_loss: 0.4270 - val_accuracy: 0.7792\n",
      "Epoch 71/100\n",
      "74/74 [==============================] - 18s 245ms/step - loss: 0.4224 - accuracy: 0.7839 - val_loss: 0.4419 - val_accuracy: 0.7680\n",
      "Epoch 72/100\n",
      "74/74 [==============================] - 18s 247ms/step - loss: 0.4287 - accuracy: 0.7778 - val_loss: 0.4308 - val_accuracy: 0.7723\n",
      "Epoch 73/100\n",
      "74/74 [==============================] - 18s 245ms/step - loss: 0.4260 - accuracy: 0.7817 - val_loss: 0.4255 - val_accuracy: 0.7800\n",
      "Epoch 74/100\n",
      "74/74 [==============================] - 18s 245ms/step - loss: 0.4240 - accuracy: 0.7829 - val_loss: 0.4329 - val_accuracy: 0.7732\n",
      "Epoch 75/100\n",
      "74/74 [==============================] - 18s 249ms/step - loss: 0.4233 - accuracy: 0.7839 - val_loss: 0.4315 - val_accuracy: 0.7763\n",
      "Epoch 76/100\n",
      "74/74 [==============================] - 18s 248ms/step - loss: 0.4242 - accuracy: 0.7812 - val_loss: 0.4289 - val_accuracy: 0.7754\n",
      "Epoch 77/100\n",
      "74/74 [==============================] - 18s 248ms/step - loss: 0.4251 - accuracy: 0.7820 - val_loss: 0.4255 - val_accuracy: 0.7819\n",
      "Epoch 78/100\n",
      "74/74 [==============================] - 18s 248ms/step - loss: 0.4241 - accuracy: 0.7815 - val_loss: 0.4274 - val_accuracy: 0.7797\n",
      "Epoch 79/100\n",
      "74/74 [==============================] - 18s 246ms/step - loss: 0.4240 - accuracy: 0.7827 - val_loss: 0.4287 - val_accuracy: 0.7764\n",
      "Epoch 80/100\n",
      "74/74 [==============================] - 18s 245ms/step - loss: 0.4260 - accuracy: 0.7807 - val_loss: 0.4238 - val_accuracy: 0.7800\n",
      "Epoch 81/100\n",
      "74/74 [==============================] - 18s 245ms/step - loss: 0.4224 - accuracy: 0.7831 - val_loss: 0.4232 - val_accuracy: 0.7826\n",
      "Epoch 82/100\n",
      "74/74 [==============================] - 18s 245ms/step - loss: 0.4242 - accuracy: 0.7826 - val_loss: 0.4269 - val_accuracy: 0.7823\n",
      "Epoch 83/100\n",
      "74/74 [==============================] - 18s 246ms/step - loss: 0.4231 - accuracy: 0.7825 - val_loss: 0.4231 - val_accuracy: 0.7820\n",
      "Epoch 84/100\n",
      "74/74 [==============================] - 18s 246ms/step - loss: 0.4268 - accuracy: 0.7802 - val_loss: 0.4714 - val_accuracy: 0.7379\n",
      "Epoch 85/100\n",
      "74/74 [==============================] - 18s 248ms/step - loss: 0.4283 - accuracy: 0.7791 - val_loss: 0.4426 - val_accuracy: 0.7635\n",
      "Epoch 86/100\n",
      "74/74 [==============================] - 18s 247ms/step - loss: 0.4272 - accuracy: 0.7774 - val_loss: 0.4252 - val_accuracy: 0.7797\n",
      "Epoch 87/100\n",
      "74/74 [==============================] - 18s 244ms/step - loss: 0.4232 - accuracy: 0.7839 - val_loss: 0.4314 - val_accuracy: 0.7756\n",
      "Epoch 88/100\n",
      "74/74 [==============================] - 18s 246ms/step - loss: 0.4224 - accuracy: 0.7833 - val_loss: 0.4289 - val_accuracy: 0.7760\n",
      "Epoch 89/100\n",
      "74/74 [==============================] - 18s 246ms/step - loss: 0.4222 - accuracy: 0.7826 - val_loss: 0.4260 - val_accuracy: 0.7772\n",
      "Epoch 90/100\n",
      "74/74 [==============================] - 18s 245ms/step - loss: 0.4260 - accuracy: 0.7797 - val_loss: 0.4302 - val_accuracy: 0.7742\n",
      "Epoch 91/100\n",
      "74/74 [==============================] - 18s 246ms/step - loss: 0.4232 - accuracy: 0.7821 - val_loss: 0.4292 - val_accuracy: 0.7795\n",
      "Epoch 92/100\n",
      "74/74 [==============================] - 18s 245ms/step - loss: 0.4229 - accuracy: 0.7827 - val_loss: 0.4332 - val_accuracy: 0.7702\n",
      "Epoch 93/100\n",
      "74/74 [==============================] - 18s 246ms/step - loss: 0.4251 - accuracy: 0.7799 - val_loss: 0.4254 - val_accuracy: 0.7815\n",
      "Epoch 94/100\n",
      "74/74 [==============================] - 18s 246ms/step - loss: 0.4209 - accuracy: 0.7844 - val_loss: 0.4260 - val_accuracy: 0.7819\n",
      "Epoch 95/100\n",
      "74/74 [==============================] - 19s 250ms/step - loss: 0.4224 - accuracy: 0.7824 - val_loss: 0.4240 - val_accuracy: 0.7824\n",
      "Epoch 96/100\n",
      "74/74 [==============================] - 18s 247ms/step - loss: 0.4202 - accuracy: 0.7853 - val_loss: 0.4268 - val_accuracy: 0.7788\n",
      "Epoch 97/100\n",
      "74/74 [==============================] - 18s 246ms/step - loss: 0.4244 - accuracy: 0.7802 - val_loss: 0.4245 - val_accuracy: 0.7780\n",
      "Epoch 98/100\n",
      "74/74 [==============================] - 18s 247ms/step - loss: 0.4238 - accuracy: 0.7814 - val_loss: 0.4269 - val_accuracy: 0.7774\n",
      "Epoch 99/100\n",
      "74/74 [==============================] - 18s 246ms/step - loss: 0.4230 - accuracy: 0.7821 - val_loss: 0.4276 - val_accuracy: 0.7747\n",
      "Epoch 100/100\n",
      "74/74 [==============================] - 18s 246ms/step - loss: 0.4307 - accuracy: 0.7747 - val_loss: 0.4263 - val_accuracy: 0.7784\n",
      "573/573 [==============================] - 4s 6ms/step - loss: 0.4263 - accuracy: 0.7784\n",
      "77.8426468372345\n"
     ]
    }
   ],
   "source": [
    "from keras.models import Sequential\n",
    "from keras.layers import Dense\n",
    "from keras.utils import to_categorical\n",
    "from sklearn.metrics import accuracy_score\n",
    "\n",
    "# Convert labels to categorical format\n",
    "train_label = to_categorical(train_label)\n",
    "test_label = to_categorical(test_label)\n",
    "\n",
    "# Define lists of activation functions, weight initializers, and optimizers\n",
    "activations = ['tanh', 'softsign', 'relu', 'elu', 'sigmoid']\n",
    "initializers = ['glorot_uniform', 'he_normal', 'he_uniform']\n",
    "optimizers = ['adagrad', 'rmsprop', 'adadelta', 'adam', 'sgd']\n",
    "\n",
    "# Dictionary to store accuracy scores for different configurations\n",
    "acc_scores = {}\n",
    "\n",
    "# Loop through activation functions, weight initializers, and optimizers\n",
    "for activation in activations:\n",
    "    for initializer in initializers:\n",
    "        for optimizer in optimizers:\n",
    "            # Create the model\n",
    "            model = Sequential()\n",
    "            model.add(Dense(1000, input_dim=4, activation=activation, kernel_initializer=initializer))\n",
    "            model.add(Dense(1000, activation=activation, kernel_initializer=initializer))\n",
    "            model.add(Dense(1000, activation=activation, kernel_initializer=initializer))\n",
    "            model.add(Dense(2, activation='softmax', kernel_initializer=initializer))\n",
    "            \n",
    "            # Compile the model\n",
    "            model.compile(loss='categorical_crossentropy', optimizer=optimizer, metrics=['accuracy'])\n",
    "            \n",
    "            # Train the model\n",
    "            model.fit(train_data, train_label, validation_data=(test_data, test_label), epochs=100, batch_size=1000, verbose=0)\n",
    "            \n",
    "            # Evaluate the model\n",
    "            scores = model.evaluate(test_data, test_label, verbose=0)\n",
    "            \n",
    "            # Store the accuracy score\n",
    "            acc_scores[(activation, initializer, optimizer)] = scores[1] * 100\n",
    "\n",
    "# Print the accuracy scores\n",
    "for config, score in acc_scores.items():\n",
    "    print(f\"Activation: {config[0]}, Initializer: {config[1]}, Optimizer: {config[2]}, Accuracy: {score}\")\n",
    "\n",
    "# Find the best configuration\n",
    "best_config = max(acc_scores, key=acc_scores.get)\n",
    "print(\"\\nBest Configuration:\")\n",
    "print(f\"Activation: {best_config[0]}, Initializer: {best_config[1]}, Optimizer: {best_config[2]}, Accuracy: {acc_scores[best_config]}\")"
   ]
  },
  {
   "cell_type": "code",
   "execution_count": null,
   "metadata": {
    "colab": {
     "base_uri": "https://localhost:8080/"
    },
    "id": "apWnUv2gjLvz",
    "outputId": "01b7eacb-fb70-4c89-df21-b31aa161bc47"
   },
   "outputs": [
    {
     "data": {
      "text/plain": [
       "0.7784264513312964"
      ]
     },
     "execution_count": 31,
     "metadata": {
      "tags": []
     },
     "output_type": "execute_result"
    }
   ],
   "source": [
    "# Get predictions from the model\n",
    "pred = np.argmax(model.predict(test_data), axis=-1)\n",
    "\n",
    "# Calculate accuracy score\n",
    "accuracy = accuracy_score(org_test_label, pred)\n",
    "\n",
    "# Print the accuracy score\n",
    "print(accuracy)"
   ]
  },
  {
   "cell_type": "code",
   "execution_count": null,
   "metadata": {
    "colab": {
     "base_uri": "https://localhost:8080/"
    },
    "id": "aP2uCCHju4zW",
    "outputId": "81a3cfbe-c2fa-4272-ad86-3f0f2dcca0cc"
   },
   "outputs": [
    {
     "name": "stdout",
     "output_type": "stream",
     "text": [
      "              precision    recall  f1-score   support\n",
      "\n",
      "         0.0       0.74      0.80      0.77      8415\n",
      "         1.0       0.82      0.76      0.79      9913\n",
      "\n",
      "    accuracy                           0.78     18328\n",
      "   macro avg       0.78      0.78      0.78     18328\n",
      "weighted avg       0.78      0.78      0.78     18328\n",
      "\n"
     ]
    }
   ],
   "source": [
    "from sklearn.metrics import classification_report\n",
    "\n",
    "# Generate classification report\n",
    "report = classification_report(org_test_label, pred)\n",
    "\n",
    "# Print the classification report\n",
    "print(report)"
   ]
  },
  {
   "cell_type": "code",
   "execution_count": null,
   "metadata": {
    "colab": {
     "base_uri": "https://localhost:8080/"
    },
    "id": "7XO_XXezw-TV",
    "outputId": "81b5ef89-9500-4011-bc2c-ca581f7904dd"
   },
   "outputs": [
    {
     "data": {
      "text/plain": [
       "array([[6733, 1682],\n",
       "       [2379, 7534]])"
      ]
     },
     "execution_count": 39,
     "metadata": {
      "tags": []
     },
     "output_type": "execute_result"
    }
   ],
   "source": [
    "from sklearn.metrics import confusion_matrix\n",
    "\n",
    "# Compute confusion matrix\n",
    "cm = confusion_matrix(org_test_label, pred)\n",
    "\n",
    "# Print the confusion matrix\n",
    "print(cm)"
   ]
  },
  {
   "cell_type": "code",
   "execution_count": null,
   "metadata": {
    "colab": {
     "base_uri": "https://localhost:8080/",
     "height": 278
    },
    "id": "J5DFQf8dzl0D",
    "outputId": "7fac09e2-7c83-445e-c891-410bc523e2fc"
   },
   "outputs": [
    {
     "data": {
      "image/png": "[encoded data removed]",
      "text/plain": [
       "<Figure size 432x288 with 2 Axes>"
      ]
     },
     "metadata": {
      "needs_background": "light",
      "tags": []
     },
     "output_type": "display_data"
    }
   ],
   "source": [
    "import matplotlib.pyplot as plt\n",
    "import numpy as np\n",
    "from sklearn import metrics\n",
    "\n",
    "# Calculate confusion matrix\n",
    "cm = metrics.confusion_matrix(org_test_label, pred)\n",
    "\n",
    "# Plot confusion matrix\n",
    "plt.imshow(cm, cmap=plt.cm.Blues)\n",
    "plt.xlabel(\"Predicted labels\")\n",
    "plt.ylabel(\"True labels\")\n",
    "plt.xticks([], [])\n",
    "plt.yticks([], [])\n",
    "plt.title('Confusion matrix')\n",
    "plt.colorbar()\n",
    "plt.show()"
   ]
  },
  {
   "cell_type": "code",
   "execution_count": null,
   "metadata": {
    "id": "eByODNod21st"
   },
   "outputs": [],
   "source": [
    "def plot_roc_curve(fpr, tpr):\n",
    "    \"\"\"\n",
    "    Plot ROC curve.\n",
    "\n",
    "    Parameters:\n",
    "    fpr (array-like): False Positive Rate.\n",
    "    tpr (array-like): True Positive Rate.\n",
    "\n",
    "    Returns:\n",
    "    None\n",
    "    \"\"\"\n",
    "    plt.plot(fpr, tpr, color='orange', label='ROC')\n",
    "    plt.plot([0, 1], [0, 1], color='darkblue', linestyle='--')\n",
    "    plt.xlabel('False Positive Rate')\n",
    "    plt.ylabel('True Positive Rate')\n",
    "    plt.title('Receiver Operating Characteristic (ROC) Curve')\n",
    "    plt.legend()\n",
    "    plt.show()"
   ]
  },
  {
   "cell_type": "code",
   "execution_count": null,
   "metadata": {
    "colab": {
     "base_uri": "https://localhost:8080/"
    },
    "id": "wwGgRDNn1n2N",
    "outputId": "14fabf38-44dc-4972-f8bb-3126f3222b62"
   },
   "outputs": [
    {
     "name": "stderr",
     "output_type": "stream",
     "text": [
      "/usr/local/lib/python3.7/dist-packages/tensorflow/python/keras/engine/sequential.py:430: UserWarning: `model.predict_proba()` is deprecated and will be removed after 2021-01-01. Please use `model.predict()` instead.\n",
      "  warnings.warn('`model.predict_proba()` is deprecated and '\n"
     ]
    },
    {
     "name": "stdout",
     "output_type": "stream",
     "text": [
      "AUC: 0.88\n"
     ]
    }
   ],
   "source": [
    "from sklearn.metrics import roc_auc_score\n",
    "\n",
    "# Get predicted probabilities for the positive class\n",
    "probs = model.predict_proba(test_data)[:, 1]\n",
    "\n",
    "# Compute AUC\n",
    "auc = roc_auc_score(org_test_label, probs)\n",
    "\n",
    "# Print AUC score\n",
    "print('AUC:', auc)"
   ]
  },
  {
   "cell_type": "code",
   "execution_count": null,
   "metadata": {
    "colab": {
     "base_uri": "https://localhost:8080/",
     "height": 295
    },
    "id": "Cbscd6B74Wd_",
    "outputId": "b505f7c2-4fdf-4cfc-eb72-ddd72597cd1d"
   },
   "outputs": [
    {
     "data": {
      "image/png": "[encoded data removed]",
      "text/plain": [
       "<Figure size 432x288 with 1 Axes>"
      ]
     },
     "metadata": {
      "needs_background": "light",
      "tags": []
     },
     "output_type": "display_data"
    }
   ],
   "source": [
    "from sklearn.metrics import roc_curve\n",
    "\n",
    "# Compute ROC curve\n",
    "fpr, tpr, thresholds = roc_curve(org_test_label, probs)\n",
    "\n",
    "# Plot ROC curve\n",
    "plot_roc_curve(fpr, tpr)"
   ]
  },
  {
   "cell_type": "code",
   "execution_count": null,
   "metadata": {
    "colab": {
     "base_uri": "https://localhost:8080/",
     "height": 295
    },
    "id": "AzLLzY-N4ru3",
    "outputId": "8c8df116-511d-4b35-de40-eb6c0210064d"
   },
   "outputs": [
    {
     "data": {
      "image/png": "[encoded data removed]",
      "text/plain": [
       "<Figure size 432x288 with 1 Axes>"
      ]
     },
     "metadata": {
      "needs_background": "light",
      "tags": []
     },
     "output_type": "display_data"
    }
   ],
   "source": [
    "import matplotlib.pyplot as plt\n",
    "\n",
    "# Function to add value labels\n",
    "def addlabels(x, y):\n",
    "    for i in range(len(x)):\n",
    "        plt.text(i, y[i], f'{y[i]:.2f}', ha='center', va='bottom')\n",
    "\n",
    "x = [\"ANN\", \"RF\", \"DT\", \"MLP\", \"LR\", \"BC\"]\n",
    "y = [77.84, 74.6, 72.3, 77.35, 76.4, 71.8]\n",
    "\n",
    "# Making the bar chart\n",
    "plt.bar(x, y)\n",
    "\n",
    "# Calling the function to add value labels\n",
    "addlabels(x, y)\n",
    "\n",
    "# Giving title to the plot\n",
    "plt.title(\"Performance Comparison\")\n",
    "\n",
    "# Adding X and Y labels\n",
    "plt.xlabel(\"Model\")\n",
    "plt.ylabel(\"Accuracy (%)\")\n",
    "plt.ylim(70, 80)\n",
    "\n",
    "# Visualizing the plot\n",
    "plt.show()"
   ]
  },
  {
   "cell_type": "code",
   "execution_count": null,
   "metadata": {
    "colab": {
     "base_uri": "https://localhost:8080/",
     "height": 265
    },
    "id": "-RbtyFVdmk9z",
    "outputId": "9d2d4563-1693-4c8c-fda8-96d6e5721757"
   },
   "outputs": [
    {
     "data": {
      "image/png": "[encoded data removed]",
      "text/plain": [
       "<Figure size 432x288 with 1 Axes>"
      ]
     },
     "metadata": {
      "needs_background": "light",
      "tags": []
     },
     "output_type": "display_data"
    }
   ],
   "source": [
    "import matplotlib.pyplot as plt\n",
    "import numpy as np\n",
    "\n",
    "# Data\n",
    "x = [\"ANN\", \"RF\", \"DT\", \"MLP\", \"LR\", \"BC\"]\n",
    "y = [77.84, 74.6, 72.3, 77.35, 76.4, 71.8]\n",
    "z = [88, 81, 78, 87, 86, 82]\n",
    "\n",
    "# Plot lines\n",
    "plt.plot(x, y, label=\"Accuracy\")\n",
    "plt.plot(x, z, label=\"ROC_AUC_score*100\")\n",
    "\n",
    "# Adding legend\n",
    "plt.legend()\n",
    "\n",
    "# Display the plot\n",
    "plt.show()"
   ]
  },
  {
   "cell_type": "code",
   "execution_count": null,
   "metadata": {
    "id": "I56pIA0EpXPS"
   },
   "outputs": [],
   "source": []
  }
 ],
 "metadata": {
  "colab": {
   "collapsed_sections": [],
   "name": "ANN_IPL.ipynb",
   "provenance": []
  },
  "kernelspec": {
   "display_name": "Python 3",
   "language": "python",
   "name": "python3"
  },
  "language_info": {
   "codemirror_mode": {
    "name": "ipython",
    "version": 3
   },
   "file_extension": ".py",
   "mimetype": "text/x-python",
   "name": "python",
   "nbconvert_exporter": "python",
   "pygments_lexer": "ipython3",
   "version": "3.8.8"
  }
 },
 "nbformat": 4,
 "nbformat_minor": 1
}
