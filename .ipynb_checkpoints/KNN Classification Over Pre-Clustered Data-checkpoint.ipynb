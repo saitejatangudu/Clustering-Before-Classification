{
 "cells": [
  {
   "cell_type": "markdown",
   "metadata": {},
   "source": [
    "This notebook demonstrates the enhancement of classification performance by applying the K-Nearest Neighbors (KNN) algorithm over a dataset that has been pre-clustered. Here's a breakdown of the key components and processes:\n",
    "\n",
    "1. **Data Loading and Preprocessing:**\n",
    "   - The dataset, already pre-clustered, is loaded into a DataFrame.\n",
    "   - Features and target variables are defined based on the clustered dataset.\n",
    "   - The dataset is split into training, validation, and test sets.\n",
    "\n",
    "2. **Model Building and Evaluation:**\n",
    "   - A KNN classifier is trained on the training data, utilizing the pre-clustered features.\n",
    "   - Hyperparameter tuning is performed to find the optimal value of K (number of neighbors) using cross-validation.\n",
    "   - The best K value is selected based on validation accuracy, leveraging the pre-clustered dataset.\n",
    "   - The final model is trained using this optimal K value, taking advantage of the clustered features.\n",
    "\n",
    "3. **Model Evaluation and Visualization:**\n",
    "   - The performance of the KNN model, applied over the pre-clustered dataset, is evaluated using test data.\n",
    "   - Evaluation metrics such as accuracy, confusion matrix, and classification report provide insights into the model's performance.\n",
    "   - ROC curve and Area Under the Curve (AUC) score illustrate the model's ability to distinguish between classes, leveraging the clustered features.\n",
    "\n",
    "4. **Conclusion:**\n",
    "   - The application of KNN over the pre-clustered dataset yields improved classification performance compared to previous attempts without clustering.\n",
    "   - By leveraging the pre-clustered features, the model benefits from enhanced data structure and organization, leading to more accurate predictions.\n",
    "   - The results obtained signify the effectiveness of clustering as a preprocessing step in classification tasks, enabling better utilization of data patterns and relationships."
   ]
  },
  {
   "cell_type": "code",
   "execution_count": 1,
   "metadata": {},
   "outputs": [],
   "source": [
    "import numpy as np\n",
    "import pandas as pd\n",
    "import matplotlib.pyplot as plt\n",
    "import seaborn as sns\n",
    "from sklearn.model_selection import train_test_split\n",
    "from sklearn.neighbors import KNeighborsClassifier\n",
    "from sklearn.metrics import confusion_matrix, classification_report, roc_curve, roc_auc_score"
   ]
  },
  {
   "cell_type": "code",
   "execution_count": 2,
   "metadata": {},
   "outputs": [],
   "source": [
    "# Load the data from the CSV file\n",
    "data = pd.read_csv(\"dataset_after_clustering.csv\")\n",
    "\n",
    "# Selecting features and target variable\n",
    "X_data = data.loc[:, [\"runs_to_be_scored\", \"balls_remaining\", \"wickets_remaining\", \"label\"]]\n",
    "Y_data = data.loc[:, [\"match_winner\"]]\n",
    "\n",
    "# Splitting the data into training, validation, and test sets\n",
    "train_data, test_data, train_label, test_label = train_test_split(X_data, Y_data, test_size=0.2, random_state=42)\n",
    "train_data, val_data, train_label, val_label = train_test_split(train_data, train_label, test_size=0.1, random_state=42)"
   ]
  },
  {
   "cell_type": "code",
   "execution_count": 9,
   "metadata": {},
   "outputs": [
    {
     "name": "stdout",
     "output_type": "stream",
     "text": [
      "kvalue=1score71.8592279361615\n",
      "kvalue=3score75.21484108580003\n",
      "kvalue=5score76.03328331741918\n",
      "kvalue=7score76.76988132587641\n",
      "kvalue=9score77.27458736870823\n",
      "kvalue=11score77.16546173782567\n",
      "kvalue=13score77.3291501841495\n",
      "kvalue=15score77.71108989223843\n",
      "kvalue=17score77.83385622698131\n",
      "kvalue=19score77.91570045014323\n",
      "kvalue=21score77.94298185786387\n",
      "kvalue=23score78.52953212385759\n",
      "kvalue=25score78.17487382348929\n",
      "kvalue=27score78.21579593507025\n",
      "kvalue=29score78.16123311962897\n",
      "kvalue=31score78.4749693084163\n",
      "kvalue=33score78.33856226981312\n",
      "kvalue=35score78.36584367753376\n",
      "kvalue=37score78.36584367753376\n",
      "kvalue=39score78.32492156595279\n",
      "kvalue=41score78.4749693084163\n",
      "kvalue=43score78.32492156595279\n",
      "kvalue=45score78.27035875051152\n",
      "kvalue=47score78.29764015823216\n",
      "kvalue=49score78.36584367753376\n",
      "kvalue=51score78.18851452734961\n",
      "kvalue=53score78.28399945437184\n",
      "kvalue=55score78.42040649297503\n",
      "kvalue=57score78.33856226981312\n",
      "kvalue=59score78.37948438139408\n",
      "kvalue=61score78.42040649297503\n",
      "kvalue=63score78.43404719683535\n",
      "kvalue=65score78.22943663893057\n",
      "kvalue=67score78.42040649297503\n",
      "kvalue=69score78.12031100804802\n",
      "kvalue=71score78.24307734279088\n",
      "kvalue=73score78.16123311962897\n",
      "kvalue=75score78.33856226981312\n",
      "kvalue=77score78.37948438139408\n",
      "kvalue=79score78.40676578911471\n",
      "kvalue=81score78.3931250852544\n",
      "kvalue=83score78.24307734279088\n",
      "kvalue=85score78.44768790069567\n",
      "kvalue=87score78.32492156595279\n",
      "kvalue=89score78.09302960032738\n",
      "kvalue=91score78.01118537716546\n",
      "kvalue=93score77.99754467330514\n",
      "kvalue=95score77.9702632655845\n",
      "kvalue=97score77.86113763470195\n",
      "kvalue=99score77.9702632655845\n",
      "kvalue=101score77.98390396944482\n",
      "kvalue=103score77.92934115400355\n",
      "kvalue=105score77.92934115400355\n",
      "kvalue=107score77.91570045014323\n",
      "kvalue=109score77.92934115400355\n",
      "kvalue=111score77.99754467330514\n",
      "kvalue=113score78.02482608102578\n",
      "kvalue=115score77.94298185786387\n",
      "kvalue=117score77.92934115400355\n",
      "kvalue=119score78.09302960032738\n",
      "kvalue=121score77.9702632655845\n",
      "kvalue=123score77.86113763470195\n",
      "kvalue=125score77.94298185786387\n",
      "kvalue=127score77.88841904242258\n",
      "kvalue=129score77.83385622698131\n",
      "kvalue=131score77.82021552312099\n",
      "kvalue=133score77.86113763470195\n",
      "kvalue=135score77.80657481926067\n",
      "kvalue=137score77.77929341154004\n",
      "kvalue=139score77.72473059609875\n",
      "kvalue=141score77.71108989223843\n",
      "kvalue=143score77.6156049652162\n",
      "kvalue=145score77.67016778065748\n",
      "kvalue=147score77.56104214977493\n",
      "kvalue=149score77.6156049652162\n",
      "kvalue=151score77.57468285363525\n",
      "kvalue=153score77.71108989223843\n",
      "kvalue=155score77.67016778065748\n",
      "kvalue=157score77.56104214977493\n",
      "kvalue=159score77.54740144591462\n",
      "kvalue=161score77.64288637293684\n",
      "kvalue=163score77.6156049652162\n",
      "kvalue=165score77.52012003819398\n",
      "kvalue=167score77.5337607420543\n",
      "kvalue=169score77.57468285363525\n",
      "kvalue=171score77.45191651889238\n",
      "kvalue=173score77.50647933433366\n",
      "kvalue=175score77.38371299959078\n",
      "kvalue=177score77.60196426135589\n",
      "kvalue=179score77.47919792661301\n",
      "kvalue=181score77.42463511117174\n",
      "kvalue=183score77.38371299959078\n",
      "kvalue=185score77.42463511117174\n",
      "kvalue=187score77.35643159187015\n",
      "kvalue=189score77.27458736870823\n",
      "kvalue=191score77.35643159187015\n",
      "kvalue=193score77.42463511117174\n",
      "kvalue=195score77.2609466648479\n",
      "kvalue=197score77.3973537034511\n",
      "kvalue=199score77.24730596098759\n"
     ]
    }
   ],
   "source": [
    "# Generating a list of odd values for k\n",
    "k_vals = list(range(1, 200, 2))\n",
    "\n",
    "# List to store accuracies\n",
    "accuracy = []\n",
    "\n",
    "# Computing accuracies of KNN for odd k values from 1 to 200 using validation data\n",
    "for k in k_vals:\n",
    "    # Initialize and train the KNN model\n",
    "    model = KNeighborsClassifier(n_neighbors=k)\n",
    "    model.fit(train_data, train_label.values.ravel())\n",
    "    \n",
    "    # Calculate accuracy on validation data\n",
    "    acc = model.score(val_data, val_label) * 100\n",
    "    \n",
    "    # Append accuracy to the list\n",
    "    accuracy.append(acc)\n",
    "    \n",
    "    # Print the k value and corresponding accuracy\n",
    "    print(\"kvalue=\", k, \"score=\", acc)"
   ]
  },
  {
   "cell_type": "code",
   "execution_count": 10,
   "metadata": {},
   "outputs": [
    {
     "name": "stdout",
     "output_type": "stream",
     "text": [
      "best result is aquired for k value 23 with accuracy of 77.61\n"
     ]
    }
   ],
   "source": [
    "# Finding the best k value based on the maximum accuracy\n",
    "best_k = k_vals[np.argmax(accuracy)]\n",
    "\n",
    "# Evaluating test data with the best k value\n",
    "model = KNeighborsClassifier(n_neighbors=best_k)\n",
    "model.fit(train_data, train_label.values.ravel())\n",
    "final_score = model.score(test_data, test_label) * 100\n",
    "\n",
    "# Printing the best result\n",
    "print(\"best result is aquired for k value %d with accuracy of %.2f%%\" % (best_k, final_score))"
   ]
  },
  {
   "cell_type": "code",
   "execution_count": 12,
   "metadata": {},
   "outputs": [
    {
     "data": {
      "text/plain": [
       "array([[6255, 1943],\n",
       "       [2160, 7970]])"
      ]
     },
     "execution_count": 12,
     "metadata": {},
     "output_type": "execute_result"
    }
   ],
   "source": [
    "predictions=model.predict(testdata)\n",
    "confusion_matrix(predictions,testlabel)"
   ]
  },
  {
   "cell_type": "code",
   "execution_count": 13,
   "metadata": {},
   "outputs": [
    {
     "name": "stdout",
     "output_type": "stream",
     "text": [
      "              precision    recall  f1-score   support\n",
      "\n",
      "         0.0       0.76      0.74      0.75      8415\n",
      "         1.0       0.79      0.80      0.80      9913\n",
      "\n",
      "    accuracy                           0.78     18328\n",
      "   macro avg       0.77      0.77      0.77     18328\n",
      "weighted avg       0.78      0.78      0.78     18328\n",
      "\n"
     ]
    }
   ],
   "source": [
    "print(classification_report(testlabel,predictions))"
   ]
  },
  {
   "cell_type": "code",
   "execution_count": 14,
   "metadata": {},
   "outputs": [
    {
     "data": {
      "text/plain": [
       "<sklearn.metrics._plot.confusion_matrix.ConfusionMatrixDisplay at 0x7f6e4bab24f0>"
      ]
     },
     "execution_count": 14,
     "metadata": {},
     "output_type": "execute_result"
    },
    {
     "data": {
      "image/png": "[encoded data removed]",
      "text/plain": [
       "<Figure size 432x288 with 2 Axes>"
      ]
     },
     "metadata": {
      "needs_background": "light"
     },
     "output_type": "display_data"
    }
   ],
   "source": [
    "# Compute confusion matrix\n",
    "cm = confusion_matrix(test_label, predictions)\n",
    "\n",
    "# Plot confusion matrix\n",
    "plt.figure(figsize=(8, 6))\n",
    "sns.heatmap(cm, annot=True, fmt=\"d\", cmap=\"Blues\", cbar=False)\n",
    "plt.xlabel(\"Predicted label\")\n",
    "plt.ylabel(\"True label\")\n",
    "plt.title(\"Confusion Matrix\")\n",
    "plt.show()"
   ]
  },
  {
   "cell_type": "code",
   "execution_count": 15,
   "metadata": {},
   "outputs": [],
   "source": [
    "def plot_roc_curve(fpr, tpr):\n",
    "    plt.plot(fpr, tpr, color='orange', label='ROC')\n",
    "    plt.plot([0, 1], [0, 1], color='darkblue', linestyle='--')\n",
    "    plt.xlabel('False Positive Rate')\n",
    "    plt.ylabel('True Positive Rate')\n",
    "    plt.title('Receiver Operating Characteristic (ROC) Curve')\n",
    "    plt.legend()\n",
    "    plt.show()"
   ]
  },
  {
   "cell_type": "code",
   "execution_count": 17,
   "metadata": {},
   "outputs": [
    {
     "name": "stdout",
     "output_type": "stream",
     "text": [
      "AUC: 0.87\n"
     ]
    }
   ],
   "source": [
    "# Compute class probabilities for the positive class\n",
    "probs = model.predict_proba(test_data)[:, 1]\n",
    "\n",
    "# Compute AUC score\n",
    "auc = roc_auc_score(test_label, probs)\n",
    "print('AUC: %.2f' % auc)"
   ]
  },
  {
   "cell_type": "code",
   "execution_count": 18,
   "metadata": {},
   "outputs": [
    {
     "data": {
      "image/png": "[encoded data removed]",
      "text/plain": [
       "<Figure size 432x288 with 1 Axes>"
      ]
     },
     "metadata": {
      "needs_background": "light"
     },
     "output_type": "display_data"
    }
   ],
   "source": [
    "from sklearn.metrics import roc_curve\n",
    "\n",
    "# Compute false positive rate, true positive rate, and thresholds\n",
    "fpr, tpr, thresholds = roc_curve(test_label, probs)\n",
    "\n",
    "# Plot ROC curve\n",
    "plot_roc_curve(fpr, tpr)"
   ]
  }
 ],
 "metadata": {
  "kernelspec": {
   "display_name": "Python 3",
   "language": "python",
   "name": "python3"
  },
  "language_info": {
   "codemirror_mode": {
    "name": "ipython",
    "version": 3
   },
   "file_extension": ".py",
   "mimetype": "text/x-python",
   "name": "python",
   "nbconvert_exporter": "python",
   "pygments_lexer": "ipython3",
   "version": "3.8.8"
  }
 },
 "nbformat": 4,
 "nbformat_minor": 4
}
