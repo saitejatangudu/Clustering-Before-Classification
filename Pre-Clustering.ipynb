{
 "cells": [
  {
   "cell_type": "markdown",
   "metadata": {},
   "source": [
    "**Summary:**\n",
    "\n",
    "This notebook aims to demonstrate the process of enhancing the performance of a classification model by applying clustering before classification. The steps involved are as follows:\n",
    "\n",
    "1. **Data Preparation:** \n",
    "   - The notebook begins by reading a dataset from a CSV file (\"dataset_before_clustering.csv\") using pandas.\n",
    "   - Initial exploration of the dataset is performed by displaying the first few rows.\n",
    "\n",
    "2. **Preprocessing:**\n",
    "   - The \"match_winner\" column is adjusted by subtracting 1 from its values, presumably for compatibility with zero-based indexing.\n",
    "   - The \"match_winner\" column is stored separately, and the remaining columns are extracted into a new DataFrame (\"df\").\n",
    "   - Unnecessary columns such as \"season\" and \"match_id\" are dropped from the DataFrame.\n",
    "\n",
    "3. **Clustering:**\n",
    "   - The KMeans algorithm from scikit-learn is utilized for clustering with 2 clusters.\n",
    "   - The DataFrame (\"df\") is fitted to the KMeans model to obtain cluster labels.\n",
    "   - The obtained labels are added as a new column (\"label\") to the DataFrame.\n",
    "\n",
    "4. **Post-Processing:**\n",
    "   - The original \"match_winner\" column is added back to the DataFrame from the stored variable.\n",
    "   - The modified DataFrame is saved to a new CSV file (\"dataset_after_clustering.csv\") without including the index.\n",
    "\n",
    "**Conclusion:**\n",
    "\n",
    "The notebook demonstrates a preprocessing technique where clustering is applied before classification to potentially enhance the performance of the classification model. By clustering similar data points together, the hope is to improve the model's ability to distinguish between different classes. The effectiveness of this approach can be further evaluated through model training and performance evaluation."
   ]
  },
  {
   "cell_type": "code",
   "execution_count": 1,
   "metadata": {
    "button": false,
    "new_sheet": false,
    "run_control": {
     "read_only": false
    }
   },
   "outputs": [
    {
     "data": {
      "text/html": [
       "<div>\n",
       "<style scoped>\n",
       "    .dataframe tbody tr th:only-of-type {\n",
       "        vertical-align: middle;\n",
       "    }\n",
       "\n",
       "    .dataframe tbody tr th {\n",
       "        vertical-align: top;\n",
       "    }\n",
       "\n",
       "    .dataframe thead th {\n",
       "        text-align: right;\n",
       "    }\n",
       "</style>\n",
       "<table border=\"1\" class=\"dataframe\">\n",
       "  <thead>\n",
       "    <tr style=\"text-align: right;\">\n",
       "      <th></th>\n",
       "      <th>Unnamed: 0</th>\n",
       "      <th>season</th>\n",
       "      <th>match_id</th>\n",
       "      <th>runs_to_be_scored</th>\n",
       "      <th>balls_remaining</th>\n",
       "      <th>wickets_remaining</th>\n",
       "      <th>match_winner</th>\n",
       "    </tr>\n",
       "  </thead>\n",
       "  <tbody>\n",
       "    <tr>\n",
       "      <th>0</th>\n",
       "      <td>124</td>\n",
       "      <td>2008</td>\n",
       "      <td>335982</td>\n",
       "      <td>222.0</td>\n",
       "      <td>119.0</td>\n",
       "      <td>10.0</td>\n",
       "      <td>1.0</td>\n",
       "    </tr>\n",
       "    <tr>\n",
       "      <th>1</th>\n",
       "      <td>125</td>\n",
       "      <td>2008</td>\n",
       "      <td>335982</td>\n",
       "      <td>221.0</td>\n",
       "      <td>119.0</td>\n",
       "      <td>10.0</td>\n",
       "      <td>1.0</td>\n",
       "    </tr>\n",
       "    <tr>\n",
       "      <th>2</th>\n",
       "      <td>126</td>\n",
       "      <td>2008</td>\n",
       "      <td>335982</td>\n",
       "      <td>221.0</td>\n",
       "      <td>118.0</td>\n",
       "      <td>10.0</td>\n",
       "      <td>1.0</td>\n",
       "    </tr>\n",
       "    <tr>\n",
       "      <th>3</th>\n",
       "      <td>127</td>\n",
       "      <td>2008</td>\n",
       "      <td>335982</td>\n",
       "      <td>220.0</td>\n",
       "      <td>117.0</td>\n",
       "      <td>10.0</td>\n",
       "      <td>1.0</td>\n",
       "    </tr>\n",
       "    <tr>\n",
       "      <th>4</th>\n",
       "      <td>128</td>\n",
       "      <td>2008</td>\n",
       "      <td>335982</td>\n",
       "      <td>219.0</td>\n",
       "      <td>116.0</td>\n",
       "      <td>10.0</td>\n",
       "      <td>1.0</td>\n",
       "    </tr>\n",
       "  </tbody>\n",
       "</table>\n",
       "</div>"
      ],
      "text/plain": [
       "   Unnamed: 0  season  match_id  runs_to_be_scored  balls_remaining  \\\n",
       "0         124    2008    335982              222.0            119.0   \n",
       "1         125    2008    335982              221.0            119.0   \n",
       "2         126    2008    335982              221.0            118.0   \n",
       "3         127    2008    335982              220.0            117.0   \n",
       "4         128    2008    335982              219.0            116.0   \n",
       "\n",
       "   wickets_remaining  match_winner  \n",
       "0               10.0           1.0  \n",
       "1               10.0           1.0  \n",
       "2               10.0           1.0  \n",
       "3               10.0           1.0  \n",
       "4               10.0           1.0  "
      ]
     },
     "execution_count": 1,
     "metadata": {},
     "output_type": "execute_result"
    }
   ],
   "source": [
    "import pandas as pd\n",
    "cust_df = pd.read_csv(\"dataset_before_clustering.csv\")\n",
    "cust_df.head()"
   ]
  },
  {
   "cell_type": "code",
   "execution_count": 6,
   "metadata": {},
   "outputs": [
    {
     "data": {
      "text/html": [
       "<div>\n",
       "<style scoped>\n",
       "    .dataframe tbody tr th:only-of-type {\n",
       "        vertical-align: middle;\n",
       "    }\n",
       "\n",
       "    .dataframe tbody tr th {\n",
       "        vertical-align: top;\n",
       "    }\n",
       "\n",
       "    .dataframe thead th {\n",
       "        text-align: right;\n",
       "    }\n",
       "</style>\n",
       "<table border=\"1\" class=\"dataframe\">\n",
       "  <thead>\n",
       "    <tr style=\"text-align: right;\">\n",
       "      <th></th>\n",
       "      <th>season</th>\n",
       "      <th>match_id</th>\n",
       "      <th>runs_to_be_scored</th>\n",
       "      <th>balls_remaining</th>\n",
       "      <th>wickets_remaining</th>\n",
       "    </tr>\n",
       "  </thead>\n",
       "  <tbody>\n",
       "    <tr>\n",
       "      <th>0</th>\n",
       "      <td>2008</td>\n",
       "      <td>335982</td>\n",
       "      <td>222.0</td>\n",
       "      <td>119.0</td>\n",
       "      <td>10.0</td>\n",
       "    </tr>\n",
       "    <tr>\n",
       "      <th>1</th>\n",
       "      <td>2008</td>\n",
       "      <td>335982</td>\n",
       "      <td>221.0</td>\n",
       "      <td>119.0</td>\n",
       "      <td>10.0</td>\n",
       "    </tr>\n",
       "    <tr>\n",
       "      <th>2</th>\n",
       "      <td>2008</td>\n",
       "      <td>335982</td>\n",
       "      <td>221.0</td>\n",
       "      <td>118.0</td>\n",
       "      <td>10.0</td>\n",
       "    </tr>\n",
       "    <tr>\n",
       "      <th>3</th>\n",
       "      <td>2008</td>\n",
       "      <td>335982</td>\n",
       "      <td>220.0</td>\n",
       "      <td>117.0</td>\n",
       "      <td>10.0</td>\n",
       "    </tr>\n",
       "    <tr>\n",
       "      <th>4</th>\n",
       "      <td>2008</td>\n",
       "      <td>335982</td>\n",
       "      <td>219.0</td>\n",
       "      <td>116.0</td>\n",
       "      <td>10.0</td>\n",
       "    </tr>\n",
       "  </tbody>\n",
       "</table>\n",
       "</div>"
      ],
      "text/plain": [
       "   season  match_id  runs_to_be_scored  balls_remaining  wickets_remaining\n",
       "0    2008    335982              222.0            119.0               10.0\n",
       "1    2008    335982              221.0            119.0               10.0\n",
       "2    2008    335982              221.0            118.0               10.0\n",
       "3    2008    335982              220.0            117.0               10.0\n",
       "4    2008    335982              219.0            116.0               10.0"
      ]
     },
     "execution_count": 6,
     "metadata": {},
     "output_type": "execute_result"
    }
   ],
   "source": [
    "# Subtract 1 from the \"match_winner\" column and store it in a variable\n",
    "cust_df[\"match_winner\"] = cust_df[\"match_winner\"] - 1\n",
    "\n",
    "# Store the \"match_winner\" column in a separate variable\n",
    "match_winner = cust_df[\"match_winner\"]\n",
    "\n",
    "# Drop the \"match_winner\" column from the DataFrame and store the remaining columns in a new DataFrame\n",
    "df = cust_df.iloc[:, 1:]"
   ]
  },
  {
   "cell_type": "code",
   "execution_count": 7,
   "metadata": {},
   "outputs": [],
   "source": [
    "# Drop the \"season\" and \"match_id\" columns from the DataFrame\n",
    "df.drop([\"season\", \"match_id\"], inplace=True, axis=1)"
   ]
  },
  {
   "cell_type": "code",
   "execution_count": null,
   "metadata": {},
   "outputs": [],
   "source": [
    "from sklearn.cluster import KMeans\n",
    "\n",
    "# Define the number of clusters\n",
    "cluster_num = 2\n",
    "\n",
    "# Initialize KMeans with specified parameters\n",
    "k_means = KMeans(init=\"k-means++\", n_clusters=cluster_num, n_init=12)\n",
    "\n",
    "# Fit KMeans to the data\n",
    "k_means.fit(df)"
   ]
  },
  {
   "cell_type": "code",
   "execution_count": 10,
   "metadata": {
    "button": false,
    "new_sheet": false,
    "run_control": {
     "read_only": false
    }
   },
   "outputs": [
    {
     "name": "stdout",
     "output_type": "stream",
     "text": [
      "91637\n"
     ]
    }
   ],
   "source": [
    "# Assign cluster labels to a new column in the DataFrame\n",
    "df[\"label\"] = k_means.labels_\n",
    "\n",
    "# Print the length of the labels array\n",
    "print(len(k_means.labels_))"
   ]
  },
  {
   "cell_type": "code",
   "execution_count": 13,
   "metadata": {},
   "outputs": [
    {
     "data": {
      "text/html": [
       "<div>\n",
       "<style scoped>\n",
       "    .dataframe tbody tr th:only-of-type {\n",
       "        vertical-align: middle;\n",
       "    }\n",
       "\n",
       "    .dataframe tbody tr th {\n",
       "        vertical-align: top;\n",
       "    }\n",
       "\n",
       "    .dataframe thead th {\n",
       "        text-align: right;\n",
       "    }\n",
       "</style>\n",
       "<table border=\"1\" class=\"dataframe\">\n",
       "  <thead>\n",
       "    <tr style=\"text-align: right;\">\n",
       "      <th></th>\n",
       "      <th>runs_to_be_scored</th>\n",
       "      <th>balls_remaining</th>\n",
       "      <th>wickets_remaining</th>\n",
       "      <th>label</th>\n",
       "      <th>match_winner</th>\n",
       "    </tr>\n",
       "  </thead>\n",
       "  <tbody>\n",
       "    <tr>\n",
       "      <th>0</th>\n",
       "      <td>222.0</td>\n",
       "      <td>119.0</td>\n",
       "      <td>10.0</td>\n",
       "      <td>0</td>\n",
       "      <td>0.0</td>\n",
       "    </tr>\n",
       "    <tr>\n",
       "      <th>1</th>\n",
       "      <td>221.0</td>\n",
       "      <td>119.0</td>\n",
       "      <td>10.0</td>\n",
       "      <td>0</td>\n",
       "      <td>0.0</td>\n",
       "    </tr>\n",
       "    <tr>\n",
       "      <th>2</th>\n",
       "      <td>221.0</td>\n",
       "      <td>118.0</td>\n",
       "      <td>10.0</td>\n",
       "      <td>0</td>\n",
       "      <td>0.0</td>\n",
       "    </tr>\n",
       "    <tr>\n",
       "      <th>3</th>\n",
       "      <td>220.0</td>\n",
       "      <td>117.0</td>\n",
       "      <td>10.0</td>\n",
       "      <td>0</td>\n",
       "      <td>0.0</td>\n",
       "    </tr>\n",
       "    <tr>\n",
       "      <th>4</th>\n",
       "      <td>219.0</td>\n",
       "      <td>116.0</td>\n",
       "      <td>10.0</td>\n",
       "      <td>0</td>\n",
       "      <td>0.0</td>\n",
       "    </tr>\n",
       "  </tbody>\n",
       "</table>\n",
       "</div>"
      ],
      "text/plain": [
       "   runs_to_be_scored  balls_remaining  wickets_remaining  label  match_winner\n",
       "0              222.0            119.0               10.0      0           0.0\n",
       "1              221.0            119.0               10.0      0           0.0\n",
       "2              221.0            118.0               10.0      0           0.0\n",
       "3              220.0            117.0               10.0      0           0.0\n",
       "4              219.0            116.0               10.0      0           0.0"
      ]
     },
     "execution_count": 13,
     "metadata": {},
     "output_type": "execute_result"
    }
   ],
   "source": [
    "# Add the \"match_winner\" column back to the DataFrame\n",
    "df[\"match_winner\"] = match_winner\n",
    "\n",
    "# Display the first few rows of the DataFrame\n",
    "df.head()"
   ]
  },
  {
   "cell_type": "code",
   "execution_count": 14,
   "metadata": {},
   "outputs": [],
   "source": [
    "# Save the modified DataFrame to a CSV file without including the index\n",
    "df.to_csv(\"dataset_after_clustering.csv\", index=False)"
   ]
  }
 ],
 "metadata": {
  "kernelspec": {
   "display_name": "Python 3",
   "language": "python",
   "name": "python3"
  },
  "language_info": {
   "codemirror_mode": {
    "name": "ipython",
    "version": 3
   },
   "file_extension": ".py",
   "mimetype": "text/x-python",
   "name": "python",
   "nbconvert_exporter": "python",
   "pygments_lexer": "ipython3",
   "version": "3.8.8"
  },
  "widgets": {
   "state": {},
   "version": "1.1.2"
  }
 },
 "nbformat": 4,
 "nbformat_minor": 2
}
